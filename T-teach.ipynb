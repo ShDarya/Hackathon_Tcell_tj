{
 "cells": [
  {
   "cell_type": "code",
   "execution_count": 1,
   "id": "f1f2418a-be3e-48f1-accd-fa49d5555ad1",
   "metadata": {},
   "outputs": [],
   "source": [
    "## Загрузка необходимых библиотек \n",
    "import numpy as np\n",
    "import matplotlib.pyplot as plt \n",
    "import pandas as pd\n",
    "import random\n",
    "import seaborn as sns\n",
    "from sklearn.cluster import KMeans\n",
    "from sklearn.linear_model import LinearRegression\n",
    "from sklearn.metrics import r2_score\n",
    "from sklearn.metrics import mean_absolute_error\n",
    "from sklearn.metrics import mean_squared_error\n",
    "from sklearn.model_selection import train_test_split\n",
    "from sklearn.preprocessing import MinMaxScaler\n",
    "from sklearn import metrics\n",
    "from scipy import stats\n",
    "import tldextract\n",
    "RANDOM_SEED=42\n",
    "random.seed(RANDOM_SEED)\n"
   ]
  },
  {
   "cell_type": "code",
   "execution_count": 2,
   "id": "63a4f8c0-1a04-45e7-b906-7baa6af67c7f",
   "metadata": {},
   "outputs": [],
   "source": [
    "from sklearn.model_selection import GridSearchCV\n",
    "from sklearn.linear_model import LogisticRegression\n",
    "from sklearn.neighbors import KNeighborsClassifier\n",
    "from sklearn.tree import DecisionTreeClassifier\n",
    "from sklearn.ensemble import BaggingClassifier\n",
    "from sklearn.ensemble import RandomForestClassifier\n",
    "from sklearn.ensemble import GradientBoostingClassifier\n",
    "from sklearn.metrics import confusion_matrix\n"
   ]
  },
  {
   "cell_type": "markdown",
   "id": "e943f7df-3cc0-4468-ad3b-cbd56bee5cbd",
   "metadata": {},
   "source": [
    "# Разведочный анализ и препроцессинг данных"
   ]
  },
  {
   "cell_type": "markdown",
   "id": "cb55047b-f66e-4c12-ad1b-ea06b081956b",
   "metadata": {},
   "source": [
    "## Разведочный анализ"
   ]
  },
  {
   "cell_type": "code",
   "execution_count": 3,
   "id": "041e780e-a70d-4768-a5e2-1d054ad64eca",
   "metadata": {},
   "outputs": [],
   "source": [
    "df_main = pd.read_csv(r'main.csv', encoding='windows-1251')"
   ]
  },
  {
   "cell_type": "code",
   "execution_count": 4,
   "id": "0281275c-253e-49f0-b725-9201452e7ddb",
   "metadata": {},
   "outputs": [
    {
     "name": "stdout",
     "output_type": "stream",
     "text": [
      "<class 'pandas.core.frame.DataFrame'>\n",
      "RangeIndex: 4496 entries, 0 to 4495\n",
      "Data columns (total 46 columns):\n",
      " #   Column                          Non-Null Count  Dtype  \n",
      "---  ------                          --------------  -----  \n",
      " 0   subscriber_id                   4496 non-null   int64  \n",
      " 1   onnet_traffic                   4496 non-null   float64\n",
      " 2   onnet_in_traffic                4496 non-null   float64\n",
      " 3   offnet_traffic                  4496 non-null   float64\n",
      " 4   offnet_in_traffic               4496 non-null   float64\n",
      " 5   data_traffic                    4496 non-null   float64\n",
      " 6   region_id                       4419 non-null   float64\n",
      " 7   date_of_birth                   4393 non-null   object \n",
      " 8   age                             4393 non-null   float64\n",
      " 9   gender                          4413 non-null   object \n",
      " 10  device_type                     3257 non-null   object \n",
      " 11  trpl_id                         4496 non-null   int64  \n",
      " 12  +Tik Tok                        1 non-null      float64\n",
      " 13  +YouTube                        12 non-null     float64\n",
      " 14  +Мессенджеры                    3 non-null      float64\n",
      " 15  +Социальные сети                1 non-null      float64\n",
      " 16  Intech - музыкальный плеер      18 non-null     float64\n",
      " 17  Intech RBT                      244 non-null    float64\n",
      " 18  Tik-Tok 2.0                     19 non-null     float64\n",
      " 19  YouTube 2.0                     471 non-null    float64\n",
      " 20  Бастаи G+1000                   12 non-null     float64\n",
      " 21  Бастаи G+10000                  5 non-null      float64\n",
      " 22  Бастаи G+2000                   10 non-null     float64\n",
      " 23  Бастаи G+4000                   5 non-null      float64\n",
      " 24  Бастаи G+500                    119 non-null    float64\n",
      " 25  Бастаи G+6000                   3 non-null      float64\n",
      " 26  Бастаи G1000                    852 non-null    float64\n",
      " 27  Бастаи G10000                   81 non-null     float64\n",
      " 28  Бастаи G2000                    1 non-null      float64\n",
      " 29  Бастаи G20000                   26 non-null     float64\n",
      " 30  Бастаи G250                     1194 non-null   float64\n",
      " 31  Бастаи G3000                    347 non-null    float64\n",
      " 32  Бастаи G5000                    286 non-null    float64\n",
      " 33  Бастаи G50000                   5 non-null      float64\n",
      " 34  Безлимитный Смартфон 2016       4 non-null      float64\n",
      " 35  Безлимитный Смартфон Lite 2016  15 non-null     float64\n",
      " 36  Диери ман 2016                  1 non-null      float64\n",
      " 37  Мегабайты за звонки             1 non-null      float64\n",
      " 38  Мессенджеры 2.0                 906 non-null    float64\n",
      " 39  Муоширати озод                  462 non-null    float64\n",
      " 40  Ночной безлимитный интернет     11 non-null     float64\n",
      " 41  Опция T-Games                   63 non-null     float64\n",
      " 42  Соц. сети 2.0                   7 non-null      float64\n",
      " 43  Соц. сети 2.0+                  45 non-null     float64\n",
      " 44  Тройной Безлимит+Тикток         5 non-null      float64\n",
      " 45  Тройной безлимит                6 non-null      float64\n",
      "dtypes: float64(41), int64(2), object(3)\n",
      "memory usage: 1.6+ MB\n"
     ]
    }
   ],
   "source": [
    "df_main.info()"
   ]
  },
  {
   "cell_type": "code",
   "execution_count": 5,
   "id": "bdbe8dfc-ff37-474d-a3cb-53ac763f43fe",
   "metadata": {},
   "outputs": [
    {
     "data": {
      "text/plain": [
       "Text(0.5, 1.0, 'Clients age histogram')"
      ]
     },
     "execution_count": 5,
     "metadata": {},
     "output_type": "execute_result"
    },
    {
     "data": {
      "image/png": "[encoded data removed]",
      "text/plain": [
       "<Figure size 432x288 with 1 Axes>"
      ]
     },
     "metadata": {
      "needs_background": "light"
     },
     "output_type": "display_data"
    }
   ],
   "source": [
    "plt.hist(df_main.age, range=[min(df_main.age), max(df_main.age)])\n",
    "plt.xlabel('Age')\n",
    "plt.ylabel('Соunts')\n",
    "plt.title('Clients age histogram')"
   ]
  },
  {
   "cell_type": "code",
   "execution_count": 6,
   "id": "2e8186d8-0bb3-474a-9298-036a69b0d81c",
   "metadata": {},
   "outputs": [
    {
     "name": "stdout",
     "output_type": "stream",
     "text": [
      "Min and max clients age:  [-44.0, 1820.0]\n"
     ]
    }
   ],
   "source": [
    "print('Min and max clients age: ', [min(df_main.age), max(df_main.age)])"
   ]
  },
  {
   "cell_type": "code",
   "execution_count": 7,
   "id": "f2c117ce-b988-4078-8f80-2854e85493f9",
   "metadata": {},
   "outputs": [
    {
     "data": {
      "text/plain": [
       "86.0"
      ]
     },
     "execution_count": 7,
     "metadata": {},
     "output_type": "execute_result"
    }
   ],
   "source": [
    "df_main.query('age>=16 & age<=100').age.max()"
   ]
  },
  {
   "cell_type": "markdown",
   "id": "58435172-726a-4965-89e7-8701f6ef0679",
   "metadata": {},
   "source": [
    "На гистограме представленных в наборе данных возрастов видно, что присутствуют промахи - отрицательный возраст и возрат более 100 лет. Визуальный анализ записей которым соответствуют промахи, показывает, что ошибка допущена при указании даты рождения клиента. Данные о возрасте таких клиентов восстановить не представляется возможным.\n",
    "\n",
    "Согласно законодательству РТ и принципам компании T-cell получить услуги компании можно при наличии паспорта, который в республике можно получить с 16 лет. Этот возраст следует выбрать в качестве нижнего предела при отсечении выбросов. В диапазоне от 16 до 100 лет максимальным возрастом является возраст в 86 лет.\n",
    "\n",
    "В колонке region_id наблюдаются отсутствующие значения, поскольку эти данные не имеют функционального связанных переменных и не являются врменными, их восстановление также не представляется возможным.\n",
    "\n",
    "Данные в колонке date_of_birth функционально связаны с данными в колонке age, дальнейшее их использование не является необходимым."
   ]
  },
  {
   "cell_type": "code",
   "execution_count": 8,
   "id": "43a17359-29ce-43d2-b799-2e561bdb384d",
   "metadata": {},
   "outputs": [],
   "source": [
    "## Удаление выбросов по возрасту, строк с отсутсвующими значениями 'gender', 'region_id', 'date_of_birth'"
   ]
  },
  {
   "cell_type": "code",
   "execution_count": 9,
   "id": "efe7faaa-abce-4d39-9d68-739d82ba150b",
   "metadata": {},
   "outputs": [],
   "source": [
    "age_16=df_main.loc[df_main['age']<16]\n",
    "age_100=df_main.loc[df_main['age']>100]"
   ]
  },
  {
   "cell_type": "code",
   "execution_count": 10,
   "id": "ecbfa2b3-19f5-489c-9dc9-f17db3dc8e85",
   "metadata": {},
   "outputs": [],
   "source": [
    "new_df=df_main.drop(age_16.index)\n",
    "new_df=new_df.drop(age_100.index)"
   ]
  },
  {
   "cell_type": "code",
   "execution_count": 11,
   "id": "5990b7e0-a94f-451b-81c5-4c546655a026",
   "metadata": {},
   "outputs": [],
   "source": [
    "new_df=new_df.dropna(subset=['age', 'gender', 'region_id'])"
   ]
  },
  {
   "cell_type": "code",
   "execution_count": 12,
   "id": "6997fb0f-eeb3-4329-967d-8ef3dfe3d5c6",
   "metadata": {},
   "outputs": [],
   "source": [
    "new_df=new_df.drop('date_of_birth', axis=1)"
   ]
  },
  {
   "cell_type": "code",
   "execution_count": 13,
   "id": "e072941e-2c72-4d11-acef-ba3b2f6ba915",
   "metadata": {},
   "outputs": [
    {
     "data": {
      "text/plain": [
       "subscriber_id                        0\n",
       "onnet_traffic                        0\n",
       "onnet_in_traffic                     0\n",
       "offnet_traffic                       0\n",
       "offnet_in_traffic                    0\n",
       "data_traffic                         0\n",
       "region_id                            0\n",
       "age                                  0\n",
       "gender                               0\n",
       "device_type                       1112\n",
       "trpl_id                              0\n",
       "+Tik Tok                          4261\n",
       "+YouTube                          4253\n",
       "+Мессенджеры                      4258\n",
       "+Социальные сети                  4260\n",
       "Intech - музыкальный плеер        4243\n",
       "Intech RBT                        4024\n",
       "Tik-Tok 2.0                       4243\n",
       "YouTube 2.0                       3800\n",
       "Бастаи G+1000                     4251\n",
       "Бастаи G+10000                    4256\n",
       "Бастаи G+2000                     4253\n",
       "Бастаи G+4000                     4256\n",
       "Бастаи G+500                      4147\n",
       "Бастаи G+6000                     4259\n",
       "Бастаи G1000                      3460\n",
       "Бастаи G10000                     4189\n",
       "Бастаи G2000                      4260\n",
       "Бастаи G20000                     4241\n",
       "Бастаи G250                       3135\n",
       "Бастаи G3000                      3935\n",
       "Бастаи G5000                      4001\n",
       "Бастаи G50000                     4256\n",
       "Безлимитный Смартфон 2016         4257\n",
       "Безлимитный Смартфон Lite 2016    4247\n",
       "Диери ман 2016                    4261\n",
       "Мегабайты за звонки               4260\n",
       "Мессенджеры 2.0                   3371\n",
       "Муоширати озод                    3820\n",
       "Ночной безлимитный интернет       4250\n",
       "Опция T-Games                     4200\n",
       "Соц. сети 2.0                     4254\n",
       "Соц. сети 2.0+                    4220\n",
       "Тройной Безлимит+Тикток           4259\n",
       "Тройной безлимит                  4256\n",
       "dtype: int64"
      ]
     },
     "execution_count": 13,
     "metadata": {},
     "output_type": "execute_result"
    }
   ],
   "source": [
    "## проверка на отсутсвующие значения\n",
    "\n",
    "new_df.isnull().sum()"
   ]
  },
  {
   "cell_type": "code",
   "execution_count": 14,
   "id": "ddc97532-5685-4644-958d-8f3730c3c8fe",
   "metadata": {},
   "outputs": [
    {
     "data": {
      "text/plain": [
       "(4261, 45)"
      ]
     },
     "execution_count": 14,
     "metadata": {},
     "output_type": "execute_result"
    }
   ],
   "source": [
    "new_df.shape"
   ]
  },
  {
   "cell_type": "code",
   "execution_count": 15,
   "id": "0f37fc75-0a6b-4fe2-b55f-914192120c76",
   "metadata": {},
   "outputs": [
    {
     "name": "stdout",
     "output_type": "stream",
     "text": [
      "<class 'pandas.core.frame.DataFrame'>\n",
      "Int64Index: 4261 entries, 0 to 4495\n",
      "Data columns (total 45 columns):\n",
      " #   Column                          Non-Null Count  Dtype  \n",
      "---  ------                          --------------  -----  \n",
      " 0   subscriber_id                   4261 non-null   int64  \n",
      " 1   onnet_traffic                   4261 non-null   float64\n",
      " 2   onnet_in_traffic                4261 non-null   float64\n",
      " 3   offnet_traffic                  4261 non-null   float64\n",
      " 4   offnet_in_traffic               4261 non-null   float64\n",
      " 5   data_traffic                    4261 non-null   float64\n",
      " 6   region_id                       4261 non-null   float64\n",
      " 7   age                             4261 non-null   float64\n",
      " 8   gender                          4261 non-null   object \n",
      " 9   device_type                     3149 non-null   object \n",
      " 10  trpl_id                         4261 non-null   int64  \n",
      " 11  +Tik Tok                        0 non-null      float64\n",
      " 12  +YouTube                        8 non-null      float64\n",
      " 13  +Мессенджеры                    3 non-null      float64\n",
      " 14  +Социальные сети                1 non-null      float64\n",
      " 15  Intech - музыкальный плеер      18 non-null     float64\n",
      " 16  Intech RBT                      237 non-null    float64\n",
      " 17  Tik-Tok 2.0                     18 non-null     float64\n",
      " 18  YouTube 2.0                     461 non-null    float64\n",
      " 19  Бастаи G+1000                   10 non-null     float64\n",
      " 20  Бастаи G+10000                  5 non-null      float64\n",
      " 21  Бастаи G+2000                   8 non-null      float64\n",
      " 22  Бастаи G+4000                   5 non-null      float64\n",
      " 23  Бастаи G+500                    114 non-null    float64\n",
      " 24  Бастаи G+6000                   2 non-null      float64\n",
      " 25  Бастаи G1000                    801 non-null    float64\n",
      " 26  Бастаи G10000                   72 non-null     float64\n",
      " 27  Бастаи G2000                    1 non-null      float64\n",
      " 28  Бастаи G20000                   20 non-null     float64\n",
      " 29  Бастаи G250                     1126 non-null   float64\n",
      " 30  Бастаи G3000                    326 non-null    float64\n",
      " 31  Бастаи G5000                    260 non-null    float64\n",
      " 32  Бастаи G50000                   5 non-null      float64\n",
      " 33  Безлимитный Смартфон 2016       4 non-null      float64\n",
      " 34  Безлимитный Смартфон Lite 2016  14 non-null     float64\n",
      " 35  Диери ман 2016                  0 non-null      float64\n",
      " 36  Мегабайты за звонки             1 non-null      float64\n",
      " 37  Мессенджеры 2.0                 890 non-null    float64\n",
      " 38  Муоширати озод                  441 non-null    float64\n",
      " 39  Ночной безлимитный интернет     11 non-null     float64\n",
      " 40  Опция T-Games                   61 non-null     float64\n",
      " 41  Соц. сети 2.0                   7 non-null      float64\n",
      " 42  Соц. сети 2.0+                  41 non-null     float64\n",
      " 43  Тройной Безлимит+Тикток         2 non-null      float64\n",
      " 44  Тройной безлимит                5 non-null      float64\n",
      "dtypes: float64(41), int64(2), object(2)\n",
      "memory usage: 1.5+ MB\n"
     ]
    }
   ],
   "source": [
    "new_df.info()"
   ]
  },
  {
   "cell_type": "markdown",
   "id": "476e60cf-0554-4889-b675-7954667e2f4e",
   "metadata": {},
   "source": [
    "## Препроцессинг и выделение фитч"
   ]
  },
  {
   "cell_type": "code",
   "execution_count": 16,
   "id": "fd19c3db-7257-46d2-bec0-ab8b6758d643",
   "metadata": {},
   "outputs": [],
   "source": [
    "# Данные не включая опции \n",
    "\n",
    "df_data=new_df.iloc[:,:11]"
   ]
  },
  {
   "cell_type": "markdown",
   "id": "d15cc134-ae47-4402-a1cc-7a2ced189f8c",
   "metadata": {},
   "source": [
    "Значения NaN в наборе данных опций эквиваленты 0 - т.е. опция не подключена."
   ]
  },
  {
   "cell_type": "code",
   "execution_count": 17,
   "id": "3eaf9de9-63bb-460c-bb74-72f5c2b89c72",
   "metadata": {},
   "outputs": [],
   "source": [
    "# Данные по подключенным опциям \n",
    "\n",
    "df_option= new_df.iloc[:,11:]\n",
    "df_option=df_option.fillna(0)"
   ]
  },
  {
   "cell_type": "code",
   "execution_count": 18,
   "id": "4017acaf-b43f-4935-8047-b526cf8046e9",
   "metadata": {},
   "outputs": [
    {
     "data": {
      "text/plain": [
       "array(['Unidentified Devices', '4G Smartphones', nan, '3G Modems/Routers',\n",
       "       'Smartphones', '3G Smartphones', '2G Non-Data Phones',\n",
       "       '2G Smartphones', '4G Tablets', '2G Feature Phones', '3G Tablets',\n",
       "       '3G Feature Phones'], dtype=object)"
      ]
     },
     "execution_count": 18,
     "metadata": {},
     "output_type": "execute_result"
    }
   ],
   "source": [
    "df_main.device_type.unique()"
   ]
  },
  {
   "cell_type": "markdown",
   "id": "3702250a-9446-427a-b43d-72914eff5d46",
   "metadata": {},
   "source": [
    "В результате анализа колонки device_type обнаружено наличие NaN объектов, в данном случае NaN равносильно категории Unidentified Devices."
   ]
  },
  {
   "cell_type": "code",
   "execution_count": 19,
   "id": "8704376d-d07b-4f81-878a-767fd00593fa",
   "metadata": {},
   "outputs": [],
   "source": [
    "df_data=df_data.fillna('Unidentified Devices')"
   ]
  },
  {
   "cell_type": "markdown",
   "id": "8bf24eac-7fb0-4058-ad13-0e6b0d5823e9",
   "metadata": {},
   "source": [
    "Создание дополнительной фитчи - opt_spend, содержащей информацию о доходах компании от доп опций (расходы клиента).  Данные получены из открытых испочников."
   ]
  },
  {
   "cell_type": "code",
   "execution_count": 20,
   "id": "2f4f21dd-0b68-450c-9029-70e2c5b3c697",
   "metadata": {},
   "outputs": [],
   "source": [
    "# Cтоимость каждой опции в последовательности столбцов датафрейма df_option\n",
    "\n",
    "num_opt=[50, 50, 10, 50, 11, 12, 70 ,60 ,25, 112, 38, 63, 13, 85, 20, 100, 30, 150, 10, 40, 60, 300, 74, 60, 30, 2, 20, 15, 30, 15, 60, 70, 99, 80]"
   ]
  },
  {
   "cell_type": "code",
   "execution_count": 21,
   "id": "353e26ba-b390-4c1c-a1d5-d6a1dbb7284d",
   "metadata": {},
   "outputs": [],
   "source": [
    "## Замена 1 в столбце на соответвующую стоимость в сом, общая потраченная сумма на опции opt_spend\n",
    "df_option_copy=df_option.copy()\n",
    "for i, col in enumerate(df_option.columns):\n",
    "    df_option_copy.loc[df_option[col]==1,col]=num_opt[i]\n",
    "        "
   ]
  },
  {
   "cell_type": "code",
   "execution_count": 22,
   "id": "1e98ae83-af3a-4650-b297-02689fd2eb66",
   "metadata": {},
   "outputs": [],
   "source": [
    "opt_spend=df_option_copy.sum(axis=1)"
   ]
  },
  {
   "cell_type": "code",
   "execution_count": 23,
   "id": "2014fc42-969d-4675-a2f4-ac60c13c33df",
   "metadata": {},
   "outputs": [],
   "source": [
    "opt_spend=pd.DataFrame(opt_spend, columns=['spend_option'])"
   ]
  },
  {
   "cell_type": "code",
   "execution_count": 24,
   "id": "a47ce484-301a-4986-853d-b80268480274",
   "metadata": {},
   "outputs": [],
   "source": [
    "dataset=pd.concat([df_data, opt_spend], axis=1 )"
   ]
  },
  {
   "cell_type": "code",
   "execution_count": 25,
   "id": "b2aa9c6f-2096-4b18-a93e-f44900be3e69",
   "metadata": {},
   "outputs": [
    {
     "data": {
      "text/html": [
       "<div>\n",
       "<style scoped>\n",
       "    .dataframe tbody tr th:only-of-type {\n",
       "        vertical-align: middle;\n",
       "    }\n",
       "\n",
       "    .dataframe tbody tr th {\n",
       "        vertical-align: top;\n",
       "    }\n",
       "\n",
       "    .dataframe thead th {\n",
       "        text-align: right;\n",
       "    }\n",
       "</style>\n",
       "<table border=\"1\" class=\"dataframe\">\n",
       "  <thead>\n",
       "    <tr style=\"text-align: right;\">\n",
       "      <th></th>\n",
       "      <th>spend_option</th>\n",
       "    </tr>\n",
       "  </thead>\n",
       "  <tbody>\n",
       "    <tr>\n",
       "      <th>0</th>\n",
       "      <td>10.0</td>\n",
       "    </tr>\n",
       "    <tr>\n",
       "      <th>1</th>\n",
       "      <td>60.0</td>\n",
       "    </tr>\n",
       "    <tr>\n",
       "      <th>2</th>\n",
       "      <td>15.0</td>\n",
       "    </tr>\n",
       "    <tr>\n",
       "      <th>3</th>\n",
       "      <td>10.0</td>\n",
       "    </tr>\n",
       "    <tr>\n",
       "      <th>4</th>\n",
       "      <td>10.0</td>\n",
       "    </tr>\n",
       "    <tr>\n",
       "      <th>...</th>\n",
       "      <td>...</td>\n",
       "    </tr>\n",
       "    <tr>\n",
       "      <th>4491</th>\n",
       "      <td>60.0</td>\n",
       "    </tr>\n",
       "    <tr>\n",
       "      <th>4492</th>\n",
       "      <td>80.0</td>\n",
       "    </tr>\n",
       "    <tr>\n",
       "      <th>4493</th>\n",
       "      <td>10.0</td>\n",
       "    </tr>\n",
       "    <tr>\n",
       "      <th>4494</th>\n",
       "      <td>100.0</td>\n",
       "    </tr>\n",
       "    <tr>\n",
       "      <th>4495</th>\n",
       "      <td>15.0</td>\n",
       "    </tr>\n",
       "  </tbody>\n",
       "</table>\n",
       "<p>4261 rows × 1 columns</p>\n",
       "</div>"
      ],
      "text/plain": [
       "      spend_option\n",
       "0             10.0\n",
       "1             60.0\n",
       "2             15.0\n",
       "3             10.0\n",
       "4             10.0\n",
       "...            ...\n",
       "4491          60.0\n",
       "4492          80.0\n",
       "4493          10.0\n",
       "4494         100.0\n",
       "4495          15.0\n",
       "\n",
       "[4261 rows x 1 columns]"
      ]
     },
     "execution_count": 25,
     "metadata": {},
     "output_type": "execute_result"
    }
   ],
   "source": [
    "opt_spend"
   ]
  },
  {
   "cell_type": "code",
   "execution_count": 26,
   "id": "a406859c-6bbf-448a-b323-14c139f7722e",
   "metadata": {},
   "outputs": [],
   "source": [
    "dataset=dataset.reset_index()\n"
   ]
  },
  {
   "cell_type": "code",
   "execution_count": 27,
   "id": "59d996ad-124c-4bfd-bc9b-da3488926879",
   "metadata": {},
   "outputs": [
    {
     "name": "stderr",
     "output_type": "stream",
     "text": [
      "C:\\Users\\darya\\AppData\\Local\\Temp/ipykernel_4964/19955386.py:1: SettingWithCopyWarning: \n",
      "A value is trying to be set on a copy of a slice from a DataFrame\n",
      "\n",
      "See the caveats in the documentation: https://pandas.pydata.org/pandas-docs/stable/user_guide/indexing.html#returning-a-view-versus-a-copy\n",
      "  dataset['region_id'][dataset['region_id']==-5000]=-1\n"
     ]
    }
   ],
   "source": [
    "dataset['region_id'][dataset['region_id']==-5000]=-1"
   ]
  },
  {
   "cell_type": "markdown",
   "id": "97d88222-9920-498f-b931-3d608fbb391f",
   "metadata": {},
   "source": [
    "# Клиентский анализ"
   ]
  },
  {
   "cell_type": "code",
   "execution_count": 28,
   "id": "42a1a438-79c7-40db-9dd6-e834ec3f4049",
   "metadata": {},
   "outputs": [],
   "source": [
    "#числовые данные: \n",
    "data_float=dataset.T.loc[(dataset.dtypes=='float64')].T\n",
    "#data_float=data_float.drop('subscriber_id', axis=1)\n",
    "data_int=dataset.T.loc[(dataset.dtypes=='int64')].T"
   ]
  },
  {
   "cell_type": "code",
   "execution_count": 29,
   "id": "9cd081ac-3f6d-4cdc-83f5-069c05b48162",
   "metadata": {},
   "outputs": [],
   "source": [
    "data_float=pd.concat([data_float, data_int['trpl_id']], axis =1)"
   ]
  },
  {
   "cell_type": "code",
   "execution_count": 30,
   "id": "f89b041f-fad5-44af-a320-f89838f0acb9",
   "metadata": {},
   "outputs": [
    {
     "data": {
      "image/png": "[encoded data removed]",
      "text/plain": [
       "<Figure size 1152x720 with 9 Axes>"
      ]
     },
     "metadata": {
      "needs_background": "light"
     },
     "output_type": "display_data"
    }
   ],
   "source": [
    "plt.figure(figsize=(16, 10))\n",
    "for i in np.arange(0,9):\n",
    "    plt.subplot(3,3,i+1)\n",
    "    sns.histplot(data=dataset, x =data_float.columns[i], hue='gender')\n",
    "    plt.grid(True)\n",
    "    plt.tight_layout()\n",
    "plt.savefig('all_hits')"
   ]
  },
  {
   "cell_type": "markdown",
   "id": "0febafb2-9aa5-4ed0-894f-e63afa83795e",
   "metadata": {},
   "source": [
    "Исходя из гистограммы на: наиболее частый клиент - ~24 или ~32 года, мужского пола; Наиболее популярный тариф 720 или 491 тариф. \n",
    "Пользователь готов тратить 10-20 сомон в месяц на дополнительные опции, а также использует трафик до 4 000 МгБт/ Наиболее предпочтительные опции: Бастаи G1000, Мессенджеры 2.0, Бастаи G250.\n",
    "\n"
   ]
  },
  {
   "cell_type": "code",
   "execution_count": 31,
   "id": "30e6f9cf-88a0-48ad-bc39-3a94053e7c32",
   "metadata": {},
   "outputs": [
    {
     "data": {
      "image/png": "[encoded data removed]",
      "text/plain": [
       "<Figure size 720x432 with 9 Axes>"
      ]
     },
     "metadata": {
      "needs_background": "light"
     },
     "output_type": "display_data"
    }
   ],
   "source": [
    "plt.figure(figsize=(10, 6))\n",
    "for i in np.arange(0,9):\n",
    "    plt.subplot(3,3,i+1)\n",
    "    sns.boxplot(data=dataset, x='gender', y=data_float.columns[i],width = 0.8)\n",
    "    plt.grid(True)\n",
    "    plt.tight_layout()\n",
    "plt.savefig('boxplot')"
   ]
  },
  {
   "cell_type": "markdown",
   "id": "df4d759e-a1ad-480b-9391-7c3d590d2654",
   "metadata": {},
   "source": [
    "Пол среди разных возрастных групп распределен с одинаковой частотой. \n",
    "Пользователь – мужчина готов делать больше более дорогих трат на платные опции, нежели женщина; медиана, а также верхний и нижний наблюдаемый уровень трафика у пользователей разного пола примерно одинаков. "
   ]
  },
  {
   "cell_type": "code",
   "execution_count": 32,
   "id": "6f70db7f-60c7-4828-85e4-43555ca3b0b0",
   "metadata": {},
   "outputs": [],
   "source": [
    "# object данные: \n",
    "data_obj=dataset.T.loc[(dataset.dtypes=='object')].T"
   ]
  },
  {
   "cell_type": "code",
   "execution_count": 33,
   "id": "80660d08-f1b4-4fe5-96c7-50520d79a548",
   "metadata": {},
   "outputs": [
    {
     "data": {
      "image/png": "[encoded data removed]",
      "text/plain": [
       "<Figure size 576x432 with 1 Axes>"
      ]
     },
     "metadata": {
      "needs_background": "light"
     },
     "output_type": "display_data"
    }
   ],
   "source": [
    "plt.figure(figsize=(8, 6))\n",
    "sns.countplot(data=data_obj, y='device_type', hue='gender', dodge=False)\n",
    "plt.grid(True)\n",
    "plt.savefig('count')"
   ]
  },
  {
   "cell_type": "markdown",
   "id": "76f38895-309c-42f6-9f6f-777e9c9a91b3",
   "metadata": {},
   "source": []
  },
  {
   "cell_type": "markdown",
   "id": "40a3bee4-fbb4-47b8-84a0-21978a8ee402",
   "metadata": {},
   "source": [
    "## Получение категориальных переменных из столбцов 'device_type','gender'"
   ]
  },
  {
   "cell_type": "code",
   "execution_count": 34,
   "id": "9778f518-3a71-4ce0-8c4c-ccefd2a09a6d",
   "metadata": {},
   "outputs": [],
   "source": [
    "from sklearn.preprocessing import OneHotEncoder\n",
    "def nom_class(data):\n",
    "    nom_enc = OneHotEncoder(sparse=False)\n",
    "    categorical_columns = list(['device_type','gender'])\n",
    "    encoded_data = nom_enc.fit_transform(data[categorical_columns])\n",
    "    encoded_df = pd.DataFrame(encoded_data.astype(int), columns=nom_enc.get_feature_names_out(categorical_columns))\n",
    "    return encoded_df"
   ]
  },
  {
   "cell_type": "code",
   "execution_count": 35,
   "id": "965bac0c-0009-42d6-b3c9-7d130b46a352",
   "metadata": {},
   "outputs": [],
   "source": [
    "data_class=nom_class(dataset)"
   ]
  },
  {
   "cell_type": "code",
   "execution_count": 36,
   "id": "763626e3-e8f4-4c78-84f4-c246ea215a74",
   "metadata": {},
   "outputs": [
    {
     "data": {
      "text/html": [
       "<div>\n",
       "<style scoped>\n",
       "    .dataframe tbody tr th:only-of-type {\n",
       "        vertical-align: middle;\n",
       "    }\n",
       "\n",
       "    .dataframe tbody tr th {\n",
       "        vertical-align: top;\n",
       "    }\n",
       "\n",
       "    .dataframe thead th {\n",
       "        text-align: right;\n",
       "    }\n",
       "</style>\n",
       "<table border=\"1\" class=\"dataframe\">\n",
       "  <thead>\n",
       "    <tr style=\"text-align: right;\">\n",
       "      <th></th>\n",
       "      <th>device_type_2G Feature Phones</th>\n",
       "      <th>device_type_2G Non-Data Phones</th>\n",
       "      <th>device_type_2G Smartphones</th>\n",
       "      <th>device_type_3G Feature Phones</th>\n",
       "      <th>device_type_3G Modems/Routers</th>\n",
       "      <th>device_type_3G Smartphones</th>\n",
       "      <th>device_type_3G Tablets</th>\n",
       "      <th>device_type_4G Smartphones</th>\n",
       "      <th>device_type_4G Tablets</th>\n",
       "      <th>device_type_Smartphones</th>\n",
       "      <th>device_type_Unidentified Devices</th>\n",
       "      <th>gender_m</th>\n",
       "      <th>gender_w</th>\n",
       "    </tr>\n",
       "  </thead>\n",
       "  <tbody>\n",
       "    <tr>\n",
       "      <th>0</th>\n",
       "      <td>0</td>\n",
       "      <td>0</td>\n",
       "      <td>0</td>\n",
       "      <td>0</td>\n",
       "      <td>0</td>\n",
       "      <td>0</td>\n",
       "      <td>0</td>\n",
       "      <td>0</td>\n",
       "      <td>0</td>\n",
       "      <td>0</td>\n",
       "      <td>1</td>\n",
       "      <td>1</td>\n",
       "      <td>0</td>\n",
       "    </tr>\n",
       "    <tr>\n",
       "      <th>1</th>\n",
       "      <td>0</td>\n",
       "      <td>0</td>\n",
       "      <td>0</td>\n",
       "      <td>0</td>\n",
       "      <td>0</td>\n",
       "      <td>0</td>\n",
       "      <td>0</td>\n",
       "      <td>1</td>\n",
       "      <td>0</td>\n",
       "      <td>0</td>\n",
       "      <td>0</td>\n",
       "      <td>1</td>\n",
       "      <td>0</td>\n",
       "    </tr>\n",
       "    <tr>\n",
       "      <th>2</th>\n",
       "      <td>0</td>\n",
       "      <td>0</td>\n",
       "      <td>0</td>\n",
       "      <td>0</td>\n",
       "      <td>0</td>\n",
       "      <td>0</td>\n",
       "      <td>0</td>\n",
       "      <td>0</td>\n",
       "      <td>0</td>\n",
       "      <td>0</td>\n",
       "      <td>1</td>\n",
       "      <td>0</td>\n",
       "      <td>1</td>\n",
       "    </tr>\n",
       "    <tr>\n",
       "      <th>3</th>\n",
       "      <td>0</td>\n",
       "      <td>0</td>\n",
       "      <td>0</td>\n",
       "      <td>0</td>\n",
       "      <td>0</td>\n",
       "      <td>0</td>\n",
       "      <td>0</td>\n",
       "      <td>0</td>\n",
       "      <td>0</td>\n",
       "      <td>0</td>\n",
       "      <td>1</td>\n",
       "      <td>1</td>\n",
       "      <td>0</td>\n",
       "    </tr>\n",
       "    <tr>\n",
       "      <th>4</th>\n",
       "      <td>0</td>\n",
       "      <td>0</td>\n",
       "      <td>0</td>\n",
       "      <td>0</td>\n",
       "      <td>0</td>\n",
       "      <td>0</td>\n",
       "      <td>0</td>\n",
       "      <td>0</td>\n",
       "      <td>0</td>\n",
       "      <td>0</td>\n",
       "      <td>1</td>\n",
       "      <td>0</td>\n",
       "      <td>1</td>\n",
       "    </tr>\n",
       "    <tr>\n",
       "      <th>...</th>\n",
       "      <td>...</td>\n",
       "      <td>...</td>\n",
       "      <td>...</td>\n",
       "      <td>...</td>\n",
       "      <td>...</td>\n",
       "      <td>...</td>\n",
       "      <td>...</td>\n",
       "      <td>...</td>\n",
       "      <td>...</td>\n",
       "      <td>...</td>\n",
       "      <td>...</td>\n",
       "      <td>...</td>\n",
       "      <td>...</td>\n",
       "    </tr>\n",
       "    <tr>\n",
       "      <th>4256</th>\n",
       "      <td>0</td>\n",
       "      <td>1</td>\n",
       "      <td>0</td>\n",
       "      <td>0</td>\n",
       "      <td>0</td>\n",
       "      <td>0</td>\n",
       "      <td>0</td>\n",
       "      <td>0</td>\n",
       "      <td>0</td>\n",
       "      <td>0</td>\n",
       "      <td>0</td>\n",
       "      <td>0</td>\n",
       "      <td>1</td>\n",
       "    </tr>\n",
       "    <tr>\n",
       "      <th>4257</th>\n",
       "      <td>0</td>\n",
       "      <td>0</td>\n",
       "      <td>0</td>\n",
       "      <td>0</td>\n",
       "      <td>0</td>\n",
       "      <td>0</td>\n",
       "      <td>0</td>\n",
       "      <td>1</td>\n",
       "      <td>0</td>\n",
       "      <td>0</td>\n",
       "      <td>0</td>\n",
       "      <td>0</td>\n",
       "      <td>1</td>\n",
       "    </tr>\n",
       "    <tr>\n",
       "      <th>4258</th>\n",
       "      <td>0</td>\n",
       "      <td>0</td>\n",
       "      <td>0</td>\n",
       "      <td>0</td>\n",
       "      <td>1</td>\n",
       "      <td>0</td>\n",
       "      <td>0</td>\n",
       "      <td>0</td>\n",
       "      <td>0</td>\n",
       "      <td>0</td>\n",
       "      <td>0</td>\n",
       "      <td>0</td>\n",
       "      <td>1</td>\n",
       "    </tr>\n",
       "    <tr>\n",
       "      <th>4259</th>\n",
       "      <td>0</td>\n",
       "      <td>0</td>\n",
       "      <td>0</td>\n",
       "      <td>0</td>\n",
       "      <td>0</td>\n",
       "      <td>0</td>\n",
       "      <td>0</td>\n",
       "      <td>1</td>\n",
       "      <td>0</td>\n",
       "      <td>0</td>\n",
       "      <td>0</td>\n",
       "      <td>1</td>\n",
       "      <td>0</td>\n",
       "    </tr>\n",
       "    <tr>\n",
       "      <th>4260</th>\n",
       "      <td>0</td>\n",
       "      <td>0</td>\n",
       "      <td>0</td>\n",
       "      <td>0</td>\n",
       "      <td>0</td>\n",
       "      <td>0</td>\n",
       "      <td>0</td>\n",
       "      <td>1</td>\n",
       "      <td>0</td>\n",
       "      <td>0</td>\n",
       "      <td>0</td>\n",
       "      <td>1</td>\n",
       "      <td>0</td>\n",
       "    </tr>\n",
       "  </tbody>\n",
       "</table>\n",
       "<p>4261 rows × 13 columns</p>\n",
       "</div>"
      ],
      "text/plain": [
       "      device_type_2G Feature Phones  device_type_2G Non-Data Phones  \\\n",
       "0                                 0                               0   \n",
       "1                                 0                               0   \n",
       "2                                 0                               0   \n",
       "3                                 0                               0   \n",
       "4                                 0                               0   \n",
       "...                             ...                             ...   \n",
       "4256                              0                               1   \n",
       "4257                              0                               0   \n",
       "4258                              0                               0   \n",
       "4259                              0                               0   \n",
       "4260                              0                               0   \n",
       "\n",
       "      device_type_2G Smartphones  device_type_3G Feature Phones  \\\n",
       "0                              0                              0   \n",
       "1                              0                              0   \n",
       "2                              0                              0   \n",
       "3                              0                              0   \n",
       "4                              0                              0   \n",
       "...                          ...                            ...   \n",
       "4256                           0                              0   \n",
       "4257                           0                              0   \n",
       "4258                           0                              0   \n",
       "4259                           0                              0   \n",
       "4260                           0                              0   \n",
       "\n",
       "      device_type_3G Modems/Routers  device_type_3G Smartphones  \\\n",
       "0                                 0                           0   \n",
       "1                                 0                           0   \n",
       "2                                 0                           0   \n",
       "3                                 0                           0   \n",
       "4                                 0                           0   \n",
       "...                             ...                         ...   \n",
       "4256                              0                           0   \n",
       "4257                              0                           0   \n",
       "4258                              1                           0   \n",
       "4259                              0                           0   \n",
       "4260                              0                           0   \n",
       "\n",
       "      device_type_3G Tablets  device_type_4G Smartphones  \\\n",
       "0                          0                           0   \n",
       "1                          0                           1   \n",
       "2                          0                           0   \n",
       "3                          0                           0   \n",
       "4                          0                           0   \n",
       "...                      ...                         ...   \n",
       "4256                       0                           0   \n",
       "4257                       0                           1   \n",
       "4258                       0                           0   \n",
       "4259                       0                           1   \n",
       "4260                       0                           1   \n",
       "\n",
       "      device_type_4G Tablets  device_type_Smartphones  \\\n",
       "0                          0                        0   \n",
       "1                          0                        0   \n",
       "2                          0                        0   \n",
       "3                          0                        0   \n",
       "4                          0                        0   \n",
       "...                      ...                      ...   \n",
       "4256                       0                        0   \n",
       "4257                       0                        0   \n",
       "4258                       0                        0   \n",
       "4259                       0                        0   \n",
       "4260                       0                        0   \n",
       "\n",
       "      device_type_Unidentified Devices  gender_m  gender_w  \n",
       "0                                    1         1         0  \n",
       "1                                    0         1         0  \n",
       "2                                    1         0         1  \n",
       "3                                    1         1         0  \n",
       "4                                    1         0         1  \n",
       "...                                ...       ...       ...  \n",
       "4256                                 0         0         1  \n",
       "4257                                 0         0         1  \n",
       "4258                                 0         0         1  \n",
       "4259                                 0         1         0  \n",
       "4260                                 0         1         0  \n",
       "\n",
       "[4261 rows x 13 columns]"
      ]
     },
     "execution_count": 36,
     "metadata": {},
     "output_type": "execute_result"
    }
   ],
   "source": [
    "data_class"
   ]
  },
  {
   "cell_type": "code",
   "execution_count": 37,
   "id": "d4ac756e-60fc-4404-bf40-58ffcea8f498",
   "metadata": {},
   "outputs": [],
   "source": [
    "## окончательный датасет\n",
    "dataset_fin=pd.concat([dataset, data_class], axis=1)"
   ]
  },
  {
   "cell_type": "code",
   "execution_count": 38,
   "id": "74a87718-c324-4dc2-83b0-5f04f5dfbbaf",
   "metadata": {},
   "outputs": [
    {
     "data": {
      "text/plain": [
       "(4261, 26)"
      ]
     },
     "execution_count": 38,
     "metadata": {},
     "output_type": "execute_result"
    }
   ],
   "source": [
    "dataset_fin.shape"
   ]
  },
  {
   "cell_type": "code",
   "execution_count": 39,
   "id": "6613287a-e89b-4877-b270-80c12491a248",
   "metadata": {},
   "outputs": [],
   "source": [
    "dataset_fin=dataset_fin.drop(['device_type', 'gender'], axis=1)"
   ]
  },
  {
   "cell_type": "markdown",
   "id": "896c6eda-6838-4bfa-b86d-a2d99cc233cc",
   "metadata": {},
   "source": [
    "## Корреляционный анализ"
   ]
  },
  {
   "cell_type": "markdown",
   "id": "2aefb8e8-4642-4c9f-8a06-a7bb97920d20",
   "metadata": {},
   "source": [
    "H0 - выборки не коррелированы; \n",
    "H1 - выборки коррелированы; \n",
    "H0 отвергается при  pvalue< 95% уровня, то есть 0.05"
   ]
  },
  {
   "cell_type": "code",
   "execution_count": 40,
   "id": "4df467d1-8d27-4dbe-a170-cb27f099b8ef",
   "metadata": {},
   "outputs": [
    {
     "name": "stdout",
     "output_type": "stream",
     "text": [
      "device_type_2G Feature Phones\n",
      "PointbiserialrResult(correlation=0.00025327164637666336, pvalue=0.9868133281968862)\n",
      "device_type_2G Non-Data Phones\n",
      "PointbiserialrResult(correlation=-0.019695425732474542, pvalue=0.19865509560679467)\n",
      "device_type_2G Smartphones\n",
      "PointbiserialrResult(correlation=0.010097211000339307, pvalue=0.5099392114844719)\n",
      "device_type_3G Feature Phones\n",
      "PointbiserialrResult(correlation=0.010234483664438096, pvalue=0.5042031272114296)\n",
      "device_type_3G Modems/Routers\n",
      "PointbiserialrResult(correlation=0.13932849566271466, pvalue=6.433853439853113e-20)\n",
      "device_type_3G Smartphones\n",
      "PointbiserialrResult(correlation=-0.01602186919156967, pvalue=0.2957415137685976)\n",
      "device_type_3G Tablets\n",
      "PointbiserialrResult(correlation=-0.026668021948730636, pvalue=0.08175555102835284)\n",
      "device_type_4G Smartphones\n",
      "PointbiserialrResult(correlation=-0.1252444180033876, pvalue=2.297765773300402e-16)\n",
      "device_type_4G Tablets\n",
      "PointbiserialrResult(correlation=0.004999200497101642, pvalue=0.7442459695552707)\n",
      "device_type_Smartphones\n",
      "PointbiserialrResult(correlation=-0.02641819043240806, pvalue=0.08465773629517317)\n",
      "device_type_Unidentified Devices\n",
      "PointbiserialrResult(correlation=0.056445843553162414, pvalue=0.0002274166502674469)\n",
      "gender_m\n",
      "PointbiserialrResult(correlation=0.008811110394417971, pvalue=0.5652916956546907)\n",
      "gender_w\n",
      "PointbiserialrResult(correlation=-0.008811110394417971, pvalue=0.5652916956546907)\n"
     ]
    }
   ],
   "source": [
    "#Корреляция 'device_type' с возрастом \n",
    "for i in data_class.columns:\n",
    "    print(i)\n",
    "    print(stats.pointbiserialr(data_class[i], dataset['age']))"
   ]
  },
  {
   "cell_type": "markdown",
   "id": "01814e29-01c4-4fa3-9393-629e1b0168ee",
   "metadata": {},
   "source": [
    "макс коэф корреляции при pvalue<< 0.05 -  H0  отвергается и данные фичи используется в дальнейшем; "
   ]
  },
  {
   "cell_type": "code",
   "execution_count": 41,
   "id": "a360a81d-bdd0-4d7e-ad0c-5baa7dbdadd7",
   "metadata": {},
   "outputs": [
    {
     "name": "stdout",
     "output_type": "stream",
     "text": [
      "+Tik Tok\n",
      "PointbiserialrResult(correlation=nan, pvalue=nan)\n",
      "+YouTube\n",
      "PointbiserialrResult(correlation=-0.014438141003717393, pvalue=0.3460689963282779)\n",
      "+Мессенджеры\n",
      "PointbiserialrResult(correlation=-0.013667642545167504, pvalue=0.3724178465945695)\n",
      "+Социальные сети\n",
      "PointbiserialrResult(correlation=0.03559575064063944, pvalue=0.020146150382496814)\n",
      "Intech - музыкальный плеер\n",
      "PointbiserialrResult(correlation=0.006381187588594205, pvalue=0.6771008155766487)\n",
      "Intech RBT\n",
      "PointbiserialrResult(correlation=-0.055894049030556704, pvalue=0.0002618914352916832)\n",
      "Tik-Tok 2.0\n",
      "PointbiserialrResult(correlation=-0.018802650951641596, pvalue=0.21977879966924657)\n",
      "YouTube 2.0\n",
      "PointbiserialrResult(correlation=-0.001979190746411435, pvalue=0.8972337836123879)\n",
      "Бастаи G+1000\n",
      "PointbiserialrResult(correlation=-0.023418002746403373, pvalue=0.12641263681574771)\n",
      "Бастаи G+10000\n",
      "PointbiserialrResult(correlation=-0.0041142608997702, pvalue=0.7883250837865416)\n",
      "Бастаи G+2000\n",
      "PointbiserialrResult(correlation=-0.005206009280728646, pvalue=0.7340585070407925)\n",
      "Бастаи G+4000\n",
      "PointbiserialrResult(correlation=-0.011219996849824946, pvalue=0.46404135281202236)\n",
      "Бастаи G+500\n",
      "PointbiserialrResult(correlation=0.057199241201027776, pvalue=0.00018717888091771088)\n",
      "Бастаи G+6000\n",
      "PointbiserialrResult(correlation=0.013443397196017988, pvalue=0.38031400210396615)\n",
      "Бастаи G1000\n",
      "PointbiserialrResult(correlation=-0.0985822303449746, pvalue=1.126559193687015e-10)\n",
      "Бастаи G10000\n",
      "PointbiserialrResult(correlation=-0.03865581234995141, pvalue=0.011618890259933254)\n",
      "Бастаи G2000\n",
      "PointbiserialrResult(correlation=-0.007511034836575753, pvalue=0.624023588764524)\n",
      "Бастаи G20000\n",
      "PointbiserialrResult(correlation=0.0164167331404851, pvalue=0.2839977187714196)\n",
      "Бастаи G250\n",
      "PointbiserialrResult(correlation=0.21530331013914344, pvalue=7.172865344607223e-46)\n",
      "Бастаи G3000\n",
      "PointbiserialrResult(correlation=-0.00545955158987329, pvalue=0.7216326706858629)\n",
      "Бастаи G5000\n",
      "PointbiserialrResult(correlation=-0.03705999137894326, pvalue=0.015552047158511165)\n",
      "Бастаи G50000\n",
      "PointbiserialrResult(correlation=-0.024416363614212348, pvalue=0.11102998472289617)\n",
      "Безлимитный Смартфон 2016\n",
      "PointbiserialrResult(correlation=-0.023538277444995998, pvalue=0.12447596785434119)\n",
      "Безлимитный Смартфон Lite 2016\n",
      "PointbiserialrResult(correlation=-0.010839110632163645, pvalue=0.4793486209522865)\n",
      "Диери ман 2016\n",
      "PointbiserialrResult(correlation=nan, pvalue=nan)\n",
      "Мегабайты за звонки\n",
      "PointbiserialrResult(correlation=0.016311136085043164, pvalue=0.2871069568661037)\n",
      "Мессенджеры 2.0\n",
      "PointbiserialrResult(correlation=-0.09211194344642465, pvalue=1.7039480453030258e-09)\n",
      "Муоширати озод\n",
      "PointbiserialrResult(correlation=-0.02036248087831063, pvalue=0.18386910868190362)\n",
      "Ночной безлимитный интернет\n",
      "PointbiserialrResult(correlation=-0.004052141173324368, pvalue=0.7914467430801972)\n",
      "Опция T-Games\n",
      "PointbiserialrResult(correlation=-0.05352205153538997, pvalue=0.00047370027022138235)\n",
      "Соц. сети 2.0\n",
      "PointbiserialrResult(correlation=-0.011305118919775588, pvalue=0.4606579968627977)\n",
      "Соц. сети 2.0+\n",
      "PointbiserialrResult(correlation=-0.010407600498173226, pvalue=0.4970180584847159)\n",
      "Тройной Безлимит+Тикток\n",
      "PointbiserialrResult(correlation=0.003816656601278309, pvalue=0.8033103723550603)\n",
      "Тройной безлимит\n",
      "PointbiserialrResult(correlation=-0.017818180232018654, pvalue=0.244887700737341)\n"
     ]
    },
    {
     "name": "stderr",
     "output_type": "stream",
     "text": [
      "C:\\Users\\darya\\anaconda3\\envs\\tf-gpu\\lib\\site-packages\\scipy\\stats\\stats.py:4023: PearsonRConstantInputWarning: An input array is constant; the correlation coefficient is not defined.\n",
      "  warnings.warn(PearsonRConstantInputWarning())\n"
     ]
    }
   ],
   "source": [
    "#Корреляция опций с возрастом \n",
    "for i in df_option.columns:\n",
    "    print(i)\n",
    "    print(stats.pointbiserialr(df_option[i], df_data['age']))"
   ]
  },
  {
   "cell_type": "markdown",
   "id": "7f04f988-3e28-4f82-8672-c958510afd31",
   "metadata": {},
   "source": [
    "максимальный коэф корреляции при фиче Бастаи G250:\n",
    "correlation=0.21530, pvalue=7.172865e-46);\n",
    "Данная фича используется в дальнейшем; "
   ]
  },
  {
   "cell_type": "code",
   "execution_count": 42,
   "id": "f15b9256-d6b6-41dd-8146-3f5cc737156e",
   "metadata": {},
   "outputs": [
    {
     "name": "stdout",
     "output_type": "stream",
     "text": [
      "index\n",
      "SpearmanrResult(correlation=-0.010303879287474654, pvalue=0.50131635871828)\n",
      "subscriber_id\n",
      "SpearmanrResult(correlation=-0.010303879287474654, pvalue=0.50131635871828)\n",
      "onnet_traffic\n",
      "SpearmanrResult(correlation=-0.24932569253602901, pvalue=2.1572057584775742e-61)\n",
      "onnet_in_traffic\n",
      "SpearmanrResult(correlation=-0.234275995083389, pvalue=3.236930618744641e-54)\n",
      "offnet_traffic\n",
      "SpearmanrResult(correlation=-0.14599096103215944, pvalue=9.863869473651264e-22)\n",
      "offnet_in_traffic\n",
      "SpearmanrResult(correlation=-0.1996504764947786, pvalue=1.4646025269621814e-39)\n",
      "data_traffic\n",
      "SpearmanrResult(correlation=-0.18417581481535628, pvalue=8.014025777875766e-34)\n",
      "region_id\n",
      "SpearmanrResult(correlation=0.011069742144769424, pvalue=0.4700471554564716)\n",
      "age\n",
      "SpearmanrResult(correlation=1.0, pvalue=0.0)\n",
      "gender\n",
      "SpearmanrResult(correlation=-0.015856821478372866, pvalue=0.3007452419648898)\n",
      "device_type\n",
      "SpearmanrResult(correlation=-0.0021421403997672773, pvalue=0.8888257486079404)\n",
      "trpl_id\n",
      "SpearmanrResult(correlation=-0.1819961716195226, pvalue=4.706325345295691e-33)\n",
      "spend_option\n",
      "SpearmanrResult(correlation=-0.1634985317704101, pvalue=6.476214946155295e-27)\n"
     ]
    }
   ],
   "source": [
    "#Корреляция трафика с возрастом \n",
    "for i in dataset.columns:\n",
    "    print(i)\n",
    "    print(stats.spearmanr(dataset[i],dataset_fin['age']))"
   ]
  },
  {
   "cell_type": "markdown",
   "id": "a53780ca-19e4-42cb-b964-3765c89e62bd",
   "metadata": {},
   "source": [
    "С возрастом коррелируют все данные трафика, расходы"
   ]
  },
  {
   "cell_type": "code",
   "execution_count": 43,
   "id": "6f6421cb-665e-440e-94f9-bf014002e0f2",
   "metadata": {},
   "outputs": [
    {
     "data": {
      "text/plain": [
       "WilcoxonResult(statistic=3177695.0, pvalue=2.7847621299038445e-58)"
      ]
     },
     "execution_count": 43,
     "metadata": {},
     "output_type": "execute_result"
    }
   ],
   "source": [
    "#Корреляция по wilcoxon между номером региона и возрастом;\n",
    "from scipy.stats import wilcoxon\n",
    "wilcoxon(dataset['region_id'], dataset['age'])"
   ]
  },
  {
   "cell_type": "markdown",
   "id": "376ff16a-1773-4455-b7ba-7e0be97e71d4",
   "metadata": {},
   "source": [
    "Корреляция есть"
   ]
  },
  {
   "cell_type": "code",
   "execution_count": 44,
   "id": "f2ff9139-faae-4a59-96c5-5abd3a34366f",
   "metadata": {},
   "outputs": [
    {
     "data": {
      "text/plain": [
       "WilcoxonResult(statistic=0.0, pvalue=0.0)"
      ]
     },
     "execution_count": 44,
     "metadata": {},
     "output_type": "execute_result"
    }
   ],
   "source": [
    "#Корреляция по wilcoxon между номером тарифа и возрастом;\n",
    "wilcoxon(dataset['trpl_id'], dataset['age'])"
   ]
  },
  {
   "cell_type": "markdown",
   "id": "c4ec382d-fd85-46b8-9200-fde1c975e8e1",
   "metadata": {},
   "source": [
    "Корреляции нет "
   ]
  },
  {
   "cell_type": "markdown",
   "id": "813a7a42-eec9-4a9f-a087-88c0ffeacc6e",
   "metadata": {},
   "source": [
    "## Работа с опциями"
   ]
  },
  {
   "cell_type": "code",
   "execution_count": 45,
   "id": "139471a9-c9e0-491d-af1f-0124bf5be222",
   "metadata": {},
   "outputs": [
    {
     "data": {
      "text/plain": [
       "+Tik Tok                             0.0\n",
       "Диери ман 2016                       0.0\n",
       "Мегабайты за звонки                  1.0\n",
       "Бастаи G2000                         1.0\n",
       "+Социальные сети                     1.0\n",
       "Бастаи G+6000                        2.0\n",
       "Тройной Безлимит+Тикток              2.0\n",
       "+Мессенджеры                         3.0\n",
       "Безлимитный Смартфон 2016            4.0\n",
       "Тройной безлимит                     5.0\n",
       "Бастаи G+10000                       5.0\n",
       "Бастаи G+4000                        5.0\n",
       "Бастаи G50000                        5.0\n",
       "Соц. сети 2.0                        7.0\n",
       "+YouTube                             8.0\n",
       "Бастаи G+2000                        8.0\n",
       "Бастаи G+1000                       10.0\n",
       "Ночной безлимитный интернет         11.0\n",
       "Безлимитный Смартфон Lite 2016      14.0\n",
       "Intech - музыкальный плеер          18.0\n",
       "Tik-Tok 2.0                         18.0\n",
       "Бастаи G20000                       20.0\n",
       "Соц. сети 2.0+                      41.0\n",
       "Опция T-Games                       61.0\n",
       "Бастаи G10000                       72.0\n",
       "Бастаи G+500                       114.0\n",
       "Intech RBT                         237.0\n",
       "Бастаи G5000                       260.0\n",
       "Бастаи G3000                       326.0\n",
       "Муоширати озод                     441.0\n",
       "YouTube 2.0                        461.0\n",
       "Бастаи G1000                       801.0\n",
       "Мессенджеры 2.0                    890.0\n",
       "Бастаи G250                       1126.0\n",
       "dtype: float64"
      ]
     },
     "execution_count": 45,
     "metadata": {},
     "output_type": "execute_result"
    }
   ],
   "source": [
    "## Кол-во клиентов, которые подключили данную опцию\n",
    "df_option.sum().sort_values()"
   ]
  },
  {
   "cell_type": "code",
   "execution_count": 46,
   "id": "f0c0ae62-9568-4bae-8fe5-1eee33a93e88",
   "metadata": {},
   "outputs": [],
   "source": [
    "## Корреляция распространенных опций между собой "
   ]
  },
  {
   "cell_type": "code",
   "execution_count": 47,
   "id": "1e47cdfb-baf6-44ba-8b43-d496e2064f43",
   "metadata": {},
   "outputs": [],
   "source": [
    "opt_dr=df_option.sum().sort_values().index[:9]"
   ]
  },
  {
   "cell_type": "code",
   "execution_count": 48,
   "id": "c0ff786b-6499-4f1f-9839-c8768a8ef9da",
   "metadata": {},
   "outputs": [],
   "source": [
    "opt_new=df_option.copy()"
   ]
  },
  {
   "cell_type": "code",
   "execution_count": 49,
   "id": "31736b77-1389-4ff5-a510-134ee89470a9",
   "metadata": {},
   "outputs": [],
   "source": [
    "opt_new=opt_new.drop(labels=opt_dr, axis = 1)"
   ]
  },
  {
   "cell_type": "code",
   "execution_count": 50,
   "id": "f6f82ea4-39c8-41bf-a0fe-e4ce7435f7a5",
   "metadata": {},
   "outputs": [],
   "source": [
    "from scipy.stats import chi2_contingency\n",
    "resalt_i=list()\n",
    "resalt_neg=list()\n",
    "for i in opt_new.columns:\n",
    "    for j in opt_new.columns:\n",
    "        CrosstabResult=pd.crosstab(opt_new[i], opt_new[j])\n",
    "        ChiSqResult = chi2_contingency(CrosstabResult)\n",
    "        if ChiSqResult[1]<0.05:\n",
    "            if i!=j:\n",
    "                resalt_i.append(i)\n",
    "        else:\n",
    "            resalt_neg.append(i)"
   ]
  },
  {
   "cell_type": "code",
   "execution_count": 51,
   "id": "3e0a560c-2277-46a0-b001-89f552d6713d",
   "metadata": {},
   "outputs": [
    {
     "data": {
      "text/plain": [
       "Бастаи G250                    14\n",
       "Мессенджеры 2.0                12\n",
       "Муоширати озод                 10\n",
       "YouTube 2.0                     9\n",
       "Intech RBT                      8\n",
       "Бастаи G5000                    7\n",
       "Бастаи G+500                    7\n",
       "Бастаи G1000                    7\n",
       "Бастаи G10000                   6\n",
       "Бастаи G3000                    6\n",
       "Бастаи G+2000                   4\n",
       "Опция T-Games                   3\n",
       "Соц. сети 2.0+                  3\n",
       "Бастаи G20000                   3\n",
       "Бастаи G+4000                   3\n",
       "Бастаи G+1000                   2\n",
       "Бастаи G+10000                  1\n",
       "Ночной безлимитный интернет     1\n",
       "Tik-Tok 2.0                     1\n",
       "Intech - музыкальный плеер      1\n",
       "dtype: int64"
      ]
     },
     "execution_count": 51,
     "metadata": {},
     "output_type": "execute_result"
    }
   ],
   "source": [
    "pd.Series(resalt_i).value_counts()"
   ]
  },
  {
   "cell_type": "markdown",
   "id": "8f1889b6-cc6a-4d71-ae6b-009f612729df",
   "metadata": {},
   "source": [
    "## Создание датафрейма с валидными фичами"
   ]
  },
  {
   "cell_type": "code",
   "execution_count": 52,
   "id": "8de79a9c-cf69-4533-8c3a-05b1b785d8f5",
   "metadata": {},
   "outputs": [],
   "source": [
    "data_tr=dataset_fin[['onnet_traffic', 'onnet_in_traffic', 'offnet_traffic','offnet_in_traffic', 'data_traffic', \n",
    "            'region_id','device_type_3G Modems/Routers', 'device_type_4G Smartphones',  'spend_option', 'age']]"
   ]
  },
  {
   "cell_type": "code",
   "execution_count": 53,
   "id": "02c2cb41-746b-494b-92fc-0a0f8cf5d311",
   "metadata": {},
   "outputs": [],
   "source": [
    "data_opt=df_option['Бастаи G250']"
   ]
  },
  {
   "cell_type": "code",
   "execution_count": 54,
   "id": "6ca91e8b-b7d7-4c9f-b98a-7f341dc2881d",
   "metadata": {},
   "outputs": [],
   "source": [
    "data_opt = data_opt.reset_index()"
   ]
  },
  {
   "cell_type": "code",
   "execution_count": 55,
   "id": "1a00b5de-4dd5-44eb-b91b-33dbedb58d03",
   "metadata": {},
   "outputs": [],
   "source": [
    "data= pd.concat([data_opt, data_tr], axis=1 )"
   ]
  },
  {
   "cell_type": "code",
   "execution_count": 56,
   "id": "d849480d-662f-40d9-88a9-10b447575b11",
   "metadata": {},
   "outputs": [
    {
     "data": {
      "text/html": [
       "<div>\n",
       "<style scoped>\n",
       "    .dataframe tbody tr th:only-of-type {\n",
       "        vertical-align: middle;\n",
       "    }\n",
       "\n",
       "    .dataframe tbody tr th {\n",
       "        vertical-align: top;\n",
       "    }\n",
       "\n",
       "    .dataframe thead th {\n",
       "        text-align: right;\n",
       "    }\n",
       "</style>\n",
       "<table border=\"1\" class=\"dataframe\">\n",
       "  <thead>\n",
       "    <tr style=\"text-align: right;\">\n",
       "      <th></th>\n",
       "      <th>Бастаи G250</th>\n",
       "      <th>onnet_traffic</th>\n",
       "      <th>onnet_in_traffic</th>\n",
       "      <th>offnet_traffic</th>\n",
       "      <th>offnet_in_traffic</th>\n",
       "      <th>data_traffic</th>\n",
       "      <th>region_id</th>\n",
       "      <th>device_type_3G Modems/Routers</th>\n",
       "      <th>device_type_4G Smartphones</th>\n",
       "      <th>spend_option</th>\n",
       "      <th>age</th>\n",
       "    </tr>\n",
       "  </thead>\n",
       "  <tbody>\n",
       "    <tr>\n",
       "      <th>0</th>\n",
       "      <td>1.0</td>\n",
       "      <td>0.00</td>\n",
       "      <td>0.00</td>\n",
       "      <td>0.00</td>\n",
       "      <td>0.00</td>\n",
       "      <td>3.30</td>\n",
       "      <td>54.0</td>\n",
       "      <td>0</td>\n",
       "      <td>0</td>\n",
       "      <td>10.0</td>\n",
       "      <td>40.0</td>\n",
       "    </tr>\n",
       "    <tr>\n",
       "      <th>1</th>\n",
       "      <td>0.0</td>\n",
       "      <td>18.42</td>\n",
       "      <td>6.33</td>\n",
       "      <td>5.67</td>\n",
       "      <td>3.87</td>\n",
       "      <td>9165.39</td>\n",
       "      <td>52.0</td>\n",
       "      <td>0</td>\n",
       "      <td>1</td>\n",
       "      <td>60.0</td>\n",
       "      <td>19.0</td>\n",
       "    </tr>\n",
       "    <tr>\n",
       "      <th>2</th>\n",
       "      <td>0.0</td>\n",
       "      <td>421.05</td>\n",
       "      <td>673.50</td>\n",
       "      <td>5.30</td>\n",
       "      <td>2.13</td>\n",
       "      <td>18746.59</td>\n",
       "      <td>6.0</td>\n",
       "      <td>0</td>\n",
       "      <td>0</td>\n",
       "      <td>15.0</td>\n",
       "      <td>20.0</td>\n",
       "    </tr>\n",
       "    <tr>\n",
       "      <th>3</th>\n",
       "      <td>1.0</td>\n",
       "      <td>0.00</td>\n",
       "      <td>0.00</td>\n",
       "      <td>0.00</td>\n",
       "      <td>0.00</td>\n",
       "      <td>26.81</td>\n",
       "      <td>8.0</td>\n",
       "      <td>0</td>\n",
       "      <td>0</td>\n",
       "      <td>10.0</td>\n",
       "      <td>51.0</td>\n",
       "    </tr>\n",
       "    <tr>\n",
       "      <th>4</th>\n",
       "      <td>1.0</td>\n",
       "      <td>0.00</td>\n",
       "      <td>0.00</td>\n",
       "      <td>0.00</td>\n",
       "      <td>0.00</td>\n",
       "      <td>91.67</td>\n",
       "      <td>17.0</td>\n",
       "      <td>0</td>\n",
       "      <td>0</td>\n",
       "      <td>10.0</td>\n",
       "      <td>23.0</td>\n",
       "    </tr>\n",
       "    <tr>\n",
       "      <th>...</th>\n",
       "      <td>...</td>\n",
       "      <td>...</td>\n",
       "      <td>...</td>\n",
       "      <td>...</td>\n",
       "      <td>...</td>\n",
       "      <td>...</td>\n",
       "      <td>...</td>\n",
       "      <td>...</td>\n",
       "      <td>...</td>\n",
       "      <td>...</td>\n",
       "      <td>...</td>\n",
       "    </tr>\n",
       "    <tr>\n",
       "      <th>4256</th>\n",
       "      <td>0.0</td>\n",
       "      <td>2012.62</td>\n",
       "      <td>169.80</td>\n",
       "      <td>1.52</td>\n",
       "      <td>0.00</td>\n",
       "      <td>1672.91</td>\n",
       "      <td>6.0</td>\n",
       "      <td>0</td>\n",
       "      <td>0</td>\n",
       "      <td>60.0</td>\n",
       "      <td>28.0</td>\n",
       "    </tr>\n",
       "    <tr>\n",
       "      <th>4257</th>\n",
       "      <td>0.0</td>\n",
       "      <td>310.93</td>\n",
       "      <td>334.90</td>\n",
       "      <td>1.25</td>\n",
       "      <td>92.82</td>\n",
       "      <td>12171.90</td>\n",
       "      <td>37.0</td>\n",
       "      <td>0</td>\n",
       "      <td>1</td>\n",
       "      <td>80.0</td>\n",
       "      <td>28.0</td>\n",
       "    </tr>\n",
       "    <tr>\n",
       "      <th>4258</th>\n",
       "      <td>1.0</td>\n",
       "      <td>0.00</td>\n",
       "      <td>0.00</td>\n",
       "      <td>0.00</td>\n",
       "      <td>0.00</td>\n",
       "      <td>33.29</td>\n",
       "      <td>29.0</td>\n",
       "      <td>1</td>\n",
       "      <td>0</td>\n",
       "      <td>10.0</td>\n",
       "      <td>49.0</td>\n",
       "    </tr>\n",
       "    <tr>\n",
       "      <th>4259</th>\n",
       "      <td>0.0</td>\n",
       "      <td>206.58</td>\n",
       "      <td>18.53</td>\n",
       "      <td>4.02</td>\n",
       "      <td>6.10</td>\n",
       "      <td>20279.11</td>\n",
       "      <td>37.0</td>\n",
       "      <td>0</td>\n",
       "      <td>1</td>\n",
       "      <td>100.0</td>\n",
       "      <td>29.0</td>\n",
       "    </tr>\n",
       "    <tr>\n",
       "      <th>4260</th>\n",
       "      <td>0.0</td>\n",
       "      <td>0.00</td>\n",
       "      <td>11.62</td>\n",
       "      <td>0.00</td>\n",
       "      <td>0.00</td>\n",
       "      <td>0.00</td>\n",
       "      <td>48.0</td>\n",
       "      <td>0</td>\n",
       "      <td>1</td>\n",
       "      <td>15.0</td>\n",
       "      <td>39.0</td>\n",
       "    </tr>\n",
       "  </tbody>\n",
       "</table>\n",
       "<p>4261 rows × 11 columns</p>\n",
       "</div>"
      ],
      "text/plain": [
       "      Бастаи G250  onnet_traffic  onnet_in_traffic  offnet_traffic  \\\n",
       "0             1.0           0.00              0.00            0.00   \n",
       "1             0.0          18.42              6.33            5.67   \n",
       "2             0.0         421.05            673.50            5.30   \n",
       "3             1.0           0.00              0.00            0.00   \n",
       "4             1.0           0.00              0.00            0.00   \n",
       "...           ...            ...               ...             ...   \n",
       "4256          0.0        2012.62            169.80            1.52   \n",
       "4257          0.0         310.93            334.90            1.25   \n",
       "4258          1.0           0.00              0.00            0.00   \n",
       "4259          0.0         206.58             18.53            4.02   \n",
       "4260          0.0           0.00             11.62            0.00   \n",
       "\n",
       "      offnet_in_traffic  data_traffic  region_id  \\\n",
       "0                  0.00          3.30       54.0   \n",
       "1                  3.87       9165.39       52.0   \n",
       "2                  2.13      18746.59        6.0   \n",
       "3                  0.00         26.81        8.0   \n",
       "4                  0.00         91.67       17.0   \n",
       "...                 ...           ...        ...   \n",
       "4256               0.00       1672.91        6.0   \n",
       "4257              92.82      12171.90       37.0   \n",
       "4258               0.00         33.29       29.0   \n",
       "4259               6.10      20279.11       37.0   \n",
       "4260               0.00          0.00       48.0   \n",
       "\n",
       "      device_type_3G Modems/Routers  device_type_4G Smartphones  spend_option  \\\n",
       "0                                 0                           0          10.0   \n",
       "1                                 0                           1          60.0   \n",
       "2                                 0                           0          15.0   \n",
       "3                                 0                           0          10.0   \n",
       "4                                 0                           0          10.0   \n",
       "...                             ...                         ...           ...   \n",
       "4256                              0                           0          60.0   \n",
       "4257                              0                           1          80.0   \n",
       "4258                              1                           0          10.0   \n",
       "4259                              0                           1         100.0   \n",
       "4260                              0                           1          15.0   \n",
       "\n",
       "       age  \n",
       "0     40.0  \n",
       "1     19.0  \n",
       "2     20.0  \n",
       "3     51.0  \n",
       "4     23.0  \n",
       "...    ...  \n",
       "4256  28.0  \n",
       "4257  28.0  \n",
       "4258  49.0  \n",
       "4259  29.0  \n",
       "4260  39.0  \n",
       "\n",
       "[4261 rows x 11 columns]"
      ]
     },
     "execution_count": 56,
     "metadata": {},
     "output_type": "execute_result"
    }
   ],
   "source": [
    "data=data.drop(['index'], axis =1)\n",
    "data"
   ]
  },
  {
   "cell_type": "markdown",
   "id": "636ef2f9-f789-4918-b951-402218d94809",
   "metadata": {},
   "source": [
    "## Построение моделей"
   ]
  },
  {
   "cell_type": "code",
   "execution_count": 57,
   "id": "56689388-c41e-4d5f-aa0e-fb000e2c0818",
   "metadata": {},
   "outputs": [],
   "source": [
    "# приведение данных к одному диапазону - нормализация данных\n",
    "\n",
    "def scal(dataset_fin):\n",
    "    scaler=MinMaxScaler()\n",
    "    scaler.fit(dataset_fin)\n",
    "    scaled = scaler.transform(dataset_fin)\n",
    "    scaled = pd.DataFrame(scaled, index=dataset_fin.index, columns=dataset_fin.columns)\n",
    "    scaled=scaled.reset_index()\n",
    "    scaled=scaled.drop(['index'], axis =1)\n",
    "    return scaled, scaler"
   ]
  },
  {
   "cell_type": "code",
   "execution_count": 58,
   "id": "e9cc1424-7922-4761-bdd5-eaac8457e68f",
   "metadata": {},
   "outputs": [],
   "source": [
    "data_sc, scaler= scal(data)"
   ]
  },
  {
   "cell_type": "code",
   "execution_count": 59,
   "id": "7fd27688-c69e-4d43-9364-9d37efa8ff32",
   "metadata": {},
   "outputs": [],
   "source": [
    "# Получение тренировочного и тестового набора данных \n",
    "\n",
    "def split_reg(scaled_data):\n",
    "    train_df, test_df = train_test_split(scaled_data, test_size=0.3, shuffle=True, random_state=RANDOM_SEED)\n",
    "    return train_df, test_df"
   ]
  },
  {
   "cell_type": "code",
   "execution_count": 60,
   "id": "7f61f84e-ca51-4f1a-8a95-af26253f544e",
   "metadata": {},
   "outputs": [],
   "source": [
    "train_df, test_df=split_reg(data_sc)"
   ]
  },
  {
   "cell_type": "code",
   "execution_count": 61,
   "id": "1d7677bf-ec5d-4f5f-92dc-add3a4a4f7a1",
   "metadata": {},
   "outputs": [],
   "source": [
    "#функция разделения данные на лейблы и данные \n",
    "\n",
    "def targ(data_tr, df_train, df_test):\n",
    "    TARGET_COLUMN = 'age'\n",
    "    x_columns = data_tr.columns\n",
    "    x_columns = x_columns[x_columns != TARGET_COLUMN]\n",
    "    y_scal_tren = df_train[TARGET_COLUMN]\n",
    "    X_scal_tren = df_train[x_columns]\n",
    "    y_scal_test = df_test[TARGET_COLUMN]\n",
    "    X_scal_test = df_test[x_columns]\n",
    "    return y_scal_tren, X_scal_tren, y_scal_test,  X_scal_test  "
   ]
  },
  {
   "cell_type": "code",
   "execution_count": 62,
   "id": "04de60cb-a529-4ea4-bcb1-3e88bbe5957e",
   "metadata": {},
   "outputs": [],
   "source": [
    "train_labels, train_data, test_labels, test_data = targ(data_sc, train_df, test_df,)"
   ]
  },
  {
   "cell_type": "markdown",
   "id": "68734e98-c3c3-4613-afa9-f268026fdf71",
   "metadata": {},
   "source": [
    "### Регрессионная модель"
   ]
  },
  {
   "cell_type": "code",
   "execution_count": 63,
   "id": "7f2ac743-9926-4f61-b2db-41d95ccb5729",
   "metadata": {},
   "outputs": [],
   "source": [
    "# Получение метрик \n",
    "def metrics(train_labels, train_data, test_labels, test_data, model):\n",
    "    model.fit(train_data, train_labels)\n",
    "    y_pred = model.predict(test_data)\n",
    "    r2 = r2_score(test_labels, y_pred)\n",
    "    mse=mean_squared_error(test_labels, y_pred)\n",
    "    mae=mean_absolute_error(test_labels, y_pred)\n",
    "    var_dict = {\n",
    "        'mae_score' : mae,\n",
    "        'r2_score' : r2,\n",
    "        'mse_score' : mse\n",
    "        \n",
    "    }\n",
    "    return var_dict, y_pred, test_labels"
   ]
  },
  {
   "cell_type": "code",
   "execution_count": 64,
   "id": "fbfd9819-9a5d-4842-98f7-72d63ce6b3f6",
   "metadata": {},
   "outputs": [],
   "source": [
    "reg_model = LinearRegression()\n",
    "var_dict, y_pred, test_labels=metrics(train_labels, train_data, test_labels, test_data, reg_model )"
   ]
  },
  {
   "cell_type": "code",
   "execution_count": 65,
   "id": "feb788cb-356c-47b9-b2bd-576810accc22",
   "metadata": {},
   "outputs": [
    {
     "data": {
      "text/plain": [
       "{'mae_score': 0.15183979175121265,\n",
       " 'r2_score': 0.061534296000651745,\n",
       " 'mse_score': 0.03562789116430506}"
      ]
     },
     "execution_count": 65,
     "metadata": {},
     "output_type": "execute_result"
    }
   ],
   "source": [
    "var_dict"
   ]
  },
  {
   "cell_type": "code",
   "execution_count": 66,
   "id": "81a13f2d-c3b4-48c6-b538-c5fa58758147",
   "metadata": {},
   "outputs": [
    {
     "data": {
      "image/png": "[encoded data removed]",
      "text/plain": [
       "<Figure size 1440x432 with 1 Axes>"
      ]
     },
     "metadata": {
      "needs_background": "light"
     },
     "output_type": "display_data"
    }
   ],
   "source": [
    "## График спрогнозированных значений с помощью линейной модели \n",
    "plt.figure(figsize=(20, 6))\n",
    "x = np.arange(len(y_pred[:200]))\n",
    "plt.plot(x, y_pred[:200],'r.')\n",
    "plt.plot(x,test_labels[:200], 'g.')\n",
    "plt.savefig('lin')"
   ]
  },
  {
   "cell_type": "markdown",
   "id": "bc031ff2-da6c-4e32-9aef-068d2e6353c2",
   "metadata": {},
   "source": [
    "### Классификационная модель"
   ]
  },
  {
   "cell_type": "code",
   "execution_count": 67,
   "id": "25200537-09a6-49c1-ba00-44e14828c45e",
   "metadata": {},
   "outputs": [],
   "source": [
    "## Разделение целевой переменной 'age' на диапазоны [(15.999, 26.0] < (26.0, 38.0] < (38.0, 86.0]],\n",
    "# превращение в классы [0, 1, 2]\n",
    "data_class=data_sc.copy()\n",
    "data_class['age']=pd.qcut(data_class['age'],3, labels=[0, 1, 2])"
   ]
  },
  {
   "cell_type": "code",
   "execution_count": 68,
   "id": "1039af32-3842-4943-84e8-65b82312f93a",
   "metadata": {},
   "outputs": [
    {
     "data": {
      "text/plain": [
       "0    1453\n",
       "1    1421\n",
       "2    1387\n",
       "Name: age, dtype: int64"
      ]
     },
     "execution_count": 68,
     "metadata": {},
     "output_type": "execute_result"
    }
   ],
   "source": [
    "data_class['age'].value_counts()"
   ]
  },
  {
   "cell_type": "code",
   "execution_count": 69,
   "id": "a013d0d2-ec0e-46bc-9ab4-6ad4eb7c129c",
   "metadata": {},
   "outputs": [],
   "source": [
    "def split(data):\n",
    "    train_df, test_df = train_test_split(data, test_size=0.2, stratify=data['age'], shuffle=True, random_state=RANDOM_SEED)\n",
    "    return train_df, test_df"
   ]
  },
  {
   "cell_type": "code",
   "execution_count": 70,
   "id": "6f6e57b1-437e-4aba-b1de-3cfe8fbcf19a",
   "metadata": {},
   "outputs": [],
   "source": [
    "df_train, df_test=split(data_class)"
   ]
  },
  {
   "cell_type": "code",
   "execution_count": 71,
   "id": "4d841a0a-bd01-41ac-9def-6e5c969c6519",
   "metadata": {},
   "outputs": [],
   "source": [
    "y_scal_tren, X_scal_tren, y_scal_test,  X_scal_test  = targ(data_class, df_train, df_test)"
   ]
  },
  {
   "cell_type": "code",
   "execution_count": 72,
   "id": "812e718c-dc47-463c-bafa-e51216e0d7ab",
   "metadata": {},
   "outputs": [],
   "source": [
    "#функция обучения модели и получения спрогнозированных значений\n",
    "from sklearn.metrics import classification_report\n",
    "def pred(model, X_scal_tren, y_scal_tren, X_scal_test, y_scal_test):\n",
    "    model.fit(X_scal_tren, y_scal_tren)\n",
    "    y_pred = model.predict(X_scal_test)\n",
    "    report = classification_report(y_scal_test, y_pred, digits=5)\n",
    "    return print(report),  y_pred"
   ]
  },
  {
   "cell_type": "code",
   "execution_count": 73,
   "id": "d5eda829-32ea-491f-9f8c-768b52eca9a0",
   "metadata": {},
   "outputs": [
    {
     "name": "stdout",
     "output_type": "stream",
     "text": [
      "              precision    recall  f1-score   support\n",
      "\n",
      "           0    0.40977   0.66323   0.50656       291\n",
      "           1    0.39552   0.18662   0.25359       284\n",
      "           2    0.47177   0.42086   0.44487       278\n",
      "\n",
      "    accuracy                        0.42556       853\n",
      "   macro avg    0.42569   0.42357   0.40167       853\n",
      "weighted avg    0.42523   0.42556   0.40223       853\n",
      "\n"
     ]
    }
   ],
   "source": [
    "# Логистическая регрессия \n",
    "\n",
    "log_reg = LogisticRegression(random_state=RANDOM_SEED, max_iter=10000)\n",
    "_,y_pred_log=pred(log_reg, X_scal_tren, y_scal_tren, X_scal_test, y_scal_test)"
   ]
  },
  {
   "cell_type": "code",
   "execution_count": 74,
   "id": "16f45634-0584-419a-8b3c-f9086f6fa4f5",
   "metadata": {},
   "outputs": [
    {
     "name": "stdout",
     "output_type": "stream",
     "text": [
      "              precision    recall  f1-score   support\n",
      "\n",
      "           0    0.39211   0.51203   0.44411       291\n",
      "           1    0.35955   0.33803   0.34846       284\n",
      "           2    0.42233   0.31295   0.35950       278\n",
      "\n",
      "    accuracy                        0.38921       853\n",
      "   macro avg    0.39133   0.38767   0.38402       853\n",
      "weighted avg    0.39112   0.38921   0.38469       853\n",
      "\n"
     ]
    }
   ],
   "source": [
    "# Модель ближайших соседей \n",
    "\n",
    "knn = KNeighborsClassifier(n_neighbors=7)\n",
    "_,y_pred_knn=pred(knn, X_scal_tren, y_scal_tren, X_scal_test, y_scal_test)"
   ]
  },
  {
   "cell_type": "code",
   "execution_count": 75,
   "id": "89fb5756-bfea-4fef-929d-d59473d032f4",
   "metadata": {},
   "outputs": [
    {
     "data": {
      "text/plain": [
       "KNeighborsClassifier(n_neighbors=9)"
      ]
     },
     "execution_count": 75,
     "metadata": {},
     "output_type": "execute_result"
    }
   ],
   "source": [
    "# Исчерпывающий поиск по заданным значениям параметров\n",
    "\n",
    "grid_search = GridSearchCV(knn, param_grid={ 'n_neighbors': np.arange(2, 10)},\n",
    "                           scoring='accuracy',\n",
    "                           cv=5)\n",
    "grid_search.fit(X_scal_tren, y_scal_tren)\n",
    "grid_search.best_estimator_"
   ]
  },
  {
   "cell_type": "code",
   "execution_count": 76,
   "id": "0855b2a6-a88e-413f-9080-0ca4e0da2b65",
   "metadata": {},
   "outputs": [
    {
     "name": "stdout",
     "output_type": "stream",
     "text": [
      "              precision    recall  f1-score   support\n",
      "\n",
      "           0    0.43704   0.40550   0.42068       291\n",
      "           1    0.33230   0.37676   0.35314       284\n",
      "           2    0.42146   0.39568   0.40816       278\n",
      "\n",
      "    accuracy                        0.39273       853\n",
      "   macro avg    0.39693   0.39265   0.39399       853\n",
      "weighted avg    0.39709   0.39273   0.39411       853\n",
      "\n"
     ]
    }
   ],
   "source": [
    "## Модель дерева принятия решений \n",
    "\n",
    "dectree = DecisionTreeClassifier(max_depth=10, random_state=RANDOM_SEED)\n",
    "_,y_pred_dec=pred(dectree, X_scal_tren, y_scal_tren, X_scal_test, y_scal_test)"
   ]
  },
  {
   "cell_type": "code",
   "execution_count": 77,
   "id": "5f3ac71f-add4-44e9-9287-1a7a90c448e6",
   "metadata": {},
   "outputs": [
    {
     "name": "stdout",
     "output_type": "stream",
     "text": [
      "              precision    recall  f1-score   support\n",
      "\n",
      "           0    0.44809   0.56357   0.49924       291\n",
      "           1    0.35371   0.28521   0.31579       284\n",
      "           2    0.40698   0.37770   0.39179       278\n",
      "\n",
      "    accuracy                        0.41032       853\n",
      "   macro avg    0.40293   0.40883   0.40227       853\n",
      "weighted avg    0.40327   0.41032   0.40314       853\n",
      "\n"
     ]
    }
   ],
   "source": [
    "## Модель случайного леса \n",
    "\n",
    "rf_clf = RandomForestClassifier(max_depth=10, n_estimators=80, max_features='sqrt', \n",
    "                                random_state=RANDOM_SEED)\n",
    "_,y_pred_rf_clf=pred(rf_clf, X_scal_tren, y_scal_tren, X_scal_test, y_scal_test)"
   ]
  },
  {
   "cell_type": "code",
   "execution_count": 78,
   "id": "be827554-d116-4fcc-9e5a-0f57d93f7be8",
   "metadata": {},
   "outputs": [
    {
     "data": {
      "text/plain": [
       "RandomForestClassifier(max_depth=10, max_features='sqrt', n_estimators=80,\n",
       "                       random_state=42)"
      ]
     },
     "execution_count": 78,
     "metadata": {},
     "output_type": "execute_result"
    }
   ],
   "source": [
    "# Исчерпывающий поиск по заданным значениям параметров\n",
    "\n",
    "grid_search = GridSearchCV(rf_clf, param_grid={ 'max_depth': np.arange(10, 17),\n",
    "                                               'n_estimators': np.arange(70, 110, step=10)},\n",
    "                           scoring='accuracy',\n",
    "                           cv=5)\n",
    "grid_search.fit(X_scal_tren, y_scal_tren)\n",
    "grid_search.best_estimator_"
   ]
  },
  {
   "cell_type": "code",
   "execution_count": 79,
   "id": "9a269eb5-6dd4-4ce0-b7b6-cdd7c62c092a",
   "metadata": {},
   "outputs": [
    {
     "name": "stdout",
     "output_type": "stream",
     "text": [
      "              precision    recall  f1-score   support\n",
      "\n",
      "           0    0.42574   0.44330   0.43434       291\n",
      "           1    0.33579   0.32042   0.32793       284\n",
      "           2    0.37634   0.37770   0.37702       278\n",
      "\n",
      "    accuracy                        0.38101       853\n",
      "   macro avg    0.37929   0.38047   0.37976       853\n",
      "weighted avg    0.37970   0.38101   0.38023       853\n",
      "\n"
     ]
    }
   ],
   "source": [
    "## Модель градиентного бустинга \n",
    "\n",
    "gb_clf = GradientBoostingClassifier(n_estimators=80, max_depth=10, max_features='sqrt', random_state=RANDOM_SEED)\n",
    "_,y_pred_gb_clf=pred(gb_clf, X_scal_tren, y_scal_tren, X_scal_test, y_scal_test)"
   ]
  },
  {
   "cell_type": "markdown",
   "id": "ae7b271f-3f5a-4353-9aa8-adff1e762ba6",
   "metadata": {},
   "source": [
    "Лучшая классификационная модель - обычная логистическая регрессия. Её точность составляет 0.44, что в сравнении с basemodel 0.333, точнее на 10% (относительно макс. точности 100%)"
   ]
  },
  {
   "cell_type": "code",
   "execution_count": 80,
   "id": "1ebc11ec-aff9-445e-aa00-faebe4878c63",
   "metadata": {},
   "outputs": [
    {
     "data": {
      "text/plain": [
       "<AxesSubplot:>"
      ]
     },
     "execution_count": 80,
     "metadata": {},
     "output_type": "execute_result"
    },
    {
     "data": {
      "image/png": "[encoded data removed]",
      "text/plain": [
       "<Figure size 432x288 with 2 Axes>"
      ]
     },
     "metadata": {
      "needs_background": "light"
     },
     "output_type": "display_data"
    }
   ],
   "source": [
    "# Матрица ошибок \n",
    "\n",
    "cm = confusion_matrix(y_scal_test, y_pred_log)\n",
    "sns.heatmap(cm, annot=True)"
   ]
  },
  {
   "cell_type": "markdown",
   "id": "812cae3b-7eea-4cf9-89c1-5e7001190c3f",
   "metadata": {},
   "source": [
    "## NEURAl"
   ]
  },
  {
   "cell_type": "code",
   "execution_count": 81,
   "id": "1d73fcfe-cfa3-49ff-8a40-0f0ab8f986b3",
   "metadata": {},
   "outputs": [],
   "source": [
    "train_targets= train_labels"
   ]
  },
  {
   "cell_type": "code",
   "execution_count": 82,
   "id": "de42bbd3-5cdf-46a0-9bcc-23725dcb973a",
   "metadata": {},
   "outputs": [
    {
     "name": "stdout",
     "output_type": "stream",
     "text": [
      "processing fold # 0\n",
      "processing fold # 1\n",
      "processing fold # 2\n",
      "processing fold # 3\n"
     ]
    }
   ],
   "source": [
    "# С сохранением оценки проверки при каждом прогоне\n",
    "from keras import models\n",
    "from keras import layers\n",
    "\n",
    "\n",
    "def build_model():\n",
    "    model=models.Sequential()\n",
    "    model.add(layers.Dense(64, activation='relu', input_shape=(train_data.shape[1],)))\n",
    "    model.add(layers.Dense(64, activation='relu'))\n",
    "    model.add(layers.Dense(1))\n",
    "    model.compile(optimizer='rmsprop', loss='mse', metrics=['mae'])\n",
    "    return model\n",
    "\n",
    "num_epochs=20\n",
    "all_mae_histories=[]\n",
    "all_val_mae_histories = []\n",
    "all_val_loss_histories=[]\n",
    "all_loss_histories=[]\n",
    "\n",
    "k=4\n",
    "num_val_samples=len(train_data)//k\n",
    "\n",
    "for i in range(k):\n",
    "    print('processing fold #', i)\n",
    "    val_data=train_data[i*num_val_samples: (i+1)*num_val_samples]\n",
    "    val_targets=train_targets[i*num_val_samples: (i+1)*num_val_samples]\n",
    "    \n",
    "    partial_train_data=np.concatenate([train_data[:i*num_val_samples],\n",
    "                                      train_data[(i+1)*num_val_samples:]],\n",
    "                                     axis=0)\n",
    "    partial_train_targets=np.concatenate([train_targets[:i*num_val_samples],\n",
    "                                         train_targets[(i+1)*num_val_samples:]],\n",
    "                                        axis=0)\n",
    "    model=build_model()\n",
    "    history=model.fit(partial_train_data, partial_train_targets, \n",
    "                      validation_data=(val_data, val_targets), epochs=num_epochs, batch_size=1, verbose=0)\n",
    "    mae_val_history=history.history['val_mae']\n",
    "    all_val_mae_histories.append(mae_val_history)\n",
    "    mse_val_history=history.history['val_loss']\n",
    "    all_val_loss_histories.append(mse_val_history)\n",
    "    \n",
    "    mae_history=history.history['mae']\n",
    "    all_mae_histories.append(mae_history)\n",
    "    mse_history=history.history['loss']\n",
    "    all_loss_histories.append(mse_history)"
   ]
  },
  {
   "cell_type": "code",
   "execution_count": 83,
   "id": "7a631609-750f-43eb-b040-b7478a38abff",
   "metadata": {},
   "outputs": [],
   "source": [
    "average_mae_history=[np.mean([x[i] for x in all_mae_histories]) for i in range(num_epochs)]"
   ]
  },
  {
   "cell_type": "code",
   "execution_count": 84,
   "id": "ab5eea94-d698-4604-a073-5f88c3359d12",
   "metadata": {},
   "outputs": [
    {
     "data": {
      "image/png": "[encoded data removed]",
      "text/plain": [
       "<Figure size 432x288 with 1 Axes>"
      ]
     },
     "metadata": {
      "needs_background": "light"
     },
     "output_type": "display_data"
    }
   ],
   "source": [
    "plt.plot(range(1, len(average_mae_history) + 1), average_mae_history)\n",
    "plt.xlabel('Epochs')\n",
    "plt.ylabel('Validation MAE')\n",
    "plt.grid(True)\n",
    "plt.show()"
   ]
  },
  {
   "cell_type": "code",
   "execution_count": 85,
   "id": "801b399e-5535-497c-84d5-51c2d7950b81",
   "metadata": {},
   "outputs": [],
   "source": [
    "average_loss_history=[np.mean([x[i] for x in all_loss_histories]) for i in range(num_epochs)]"
   ]
  },
  {
   "cell_type": "code",
   "execution_count": 86,
   "id": "2712c7e3-e372-4fbd-b99d-481cda6cbe6b",
   "metadata": {},
   "outputs": [
    {
     "data": {
      "image/png": "[encoded data removed]",
      "text/plain": [
       "<Figure size 432x288 with 1 Axes>"
      ]
     },
     "metadata": {
      "needs_background": "light"
     },
     "output_type": "display_data"
    }
   ],
   "source": [
    "plt.plot(range(1, len(average_loss_history) + 1), average_loss_history)\n",
    "plt.xlabel('Epochs')\n",
    "plt.ylabel('Validation MSE')\n",
    "plt.grid(True)\n",
    "plt.show()"
   ]
  },
  {
   "cell_type": "markdown",
   "id": "9387ffae-2689-47ab-8595-a18213dcf4f8",
   "metadata": {},
   "source": [
    "# Работа с dpi.csv"
   ]
  },
  {
   "cell_type": "code",
   "execution_count": 87,
   "id": "efc7a908-149a-4aff-b2df-739ee89c4da1",
   "metadata": {},
   "outputs": [],
   "source": [
    "df_dpi = pd.read_csv(r'dpi.csv')"
   ]
  },
  {
   "cell_type": "code",
   "execution_count": 88,
   "id": "363eb077-6ea8-40b6-8bc1-c4f0258630f0",
   "metadata": {},
   "outputs": [
    {
     "data": {
      "text/html": [
       "<div>\n",
       "<style scoped>\n",
       "    .dataframe tbody tr th:only-of-type {\n",
       "        vertical-align: middle;\n",
       "    }\n",
       "\n",
       "    .dataframe tbody tr th {\n",
       "        vertical-align: top;\n",
       "    }\n",
       "\n",
       "    .dataframe thead th {\n",
       "        text-align: right;\n",
       "    }\n",
       "</style>\n",
       "<table border=\"1\" class=\"dataframe\">\n",
       "  <thead>\n",
       "    <tr style=\"text-align: right;\">\n",
       "      <th></th>\n",
       "      <th>subscriber_id</th>\n",
       "      <th>ssl_server_name</th>\n",
       "      <th>data_traffic</th>\n",
       "    </tr>\n",
       "  </thead>\n",
       "  <tbody>\n",
       "    <tr>\n",
       "      <th>0</th>\n",
       "      <td>1765</td>\n",
       "      <td>NaN</td>\n",
       "      <td>24311.0</td>\n",
       "    </tr>\n",
       "    <tr>\n",
       "      <th>1</th>\n",
       "      <td>1765</td>\n",
       "      <td>scontent.fdyu2-1.fna.fbcdn.net</td>\n",
       "      <td>2314.0</td>\n",
       "    </tr>\n",
       "    <tr>\n",
       "      <th>2</th>\n",
       "      <td>1765</td>\n",
       "      <td>media.fdyu2-1.fna.whatsapp.net</td>\n",
       "      <td>1180.0</td>\n",
       "    </tr>\n",
       "    <tr>\n",
       "      <th>3</th>\n",
       "      <td>1765</td>\n",
       "      <td>v16m.tiktokcdn.com</td>\n",
       "      <td>829.0</td>\n",
       "    </tr>\n",
       "    <tr>\n",
       "      <th>4</th>\n",
       "      <td>1765</td>\n",
       "      <td>media-arn2-1.cdn.whatsapp.net</td>\n",
       "      <td>490.0</td>\n",
       "    </tr>\n",
       "    <tr>\n",
       "      <th>...</th>\n",
       "      <td>...</td>\n",
       "      <td>...</td>\n",
       "      <td>...</td>\n",
       "    </tr>\n",
       "    <tr>\n",
       "      <th>949121</th>\n",
       "      <td>2391</td>\n",
       "      <td>rr14---sn-n8v7znsz.googlevideo.com</td>\n",
       "      <td>0.0</td>\n",
       "    </tr>\n",
       "    <tr>\n",
       "      <th>949122</th>\n",
       "      <td>2391</td>\n",
       "      <td>rr16---sn-n8v7znsy.googlevideo.com</td>\n",
       "      <td>0.0</td>\n",
       "    </tr>\n",
       "    <tr>\n",
       "      <th>949123</th>\n",
       "      <td>2391</td>\n",
       "      <td>static.ads-twitter.com</td>\n",
       "      <td>0.0</td>\n",
       "    </tr>\n",
       "    <tr>\n",
       "      <th>949124</th>\n",
       "      <td>2391</td>\n",
       "      <td>somon-bebce.firebaseio.com</td>\n",
       "      <td>0.0</td>\n",
       "    </tr>\n",
       "    <tr>\n",
       "      <th>949125</th>\n",
       "      <td>2391</td>\n",
       "      <td>trouter-azsc-asse-0-b.trouter.skype.com</td>\n",
       "      <td>0.0</td>\n",
       "    </tr>\n",
       "  </tbody>\n",
       "</table>\n",
       "<p>949126 rows × 3 columns</p>\n",
       "</div>"
      ],
      "text/plain": [
       "        subscriber_id                          ssl_server_name  data_traffic\n",
       "0                1765                                      NaN       24311.0\n",
       "1                1765           scontent.fdyu2-1.fna.fbcdn.net        2314.0\n",
       "2                1765           media.fdyu2-1.fna.whatsapp.net        1180.0\n",
       "3                1765                       v16m.tiktokcdn.com         829.0\n",
       "4                1765            media-arn2-1.cdn.whatsapp.net         490.0\n",
       "...               ...                                      ...           ...\n",
       "949121           2391       rr14---sn-n8v7znsz.googlevideo.com           0.0\n",
       "949122           2391       rr16---sn-n8v7znsy.googlevideo.com           0.0\n",
       "949123           2391                   static.ads-twitter.com           0.0\n",
       "949124           2391               somon-bebce.firebaseio.com           0.0\n",
       "949125           2391  trouter-azsc-asse-0-b.trouter.skype.com           0.0\n",
       "\n",
       "[949126 rows x 3 columns]"
      ]
     },
     "execution_count": 88,
     "metadata": {},
     "output_type": "execute_result"
    }
   ],
   "source": [
    "df_dpi"
   ]
  },
  {
   "cell_type": "code",
   "execution_count": 89,
   "id": "f3610ba6-2b66-40b6-8dbe-63cb67f7ef58",
   "metadata": {},
   "outputs": [
    {
     "data": {
      "text/plain": [
       "subscriber_id         0\n",
       "ssl_server_name    1392\n",
       "data_traffic          0\n",
       "dtype: int64"
      ]
     },
     "execution_count": 89,
     "metadata": {},
     "output_type": "execute_result"
    }
   ],
   "source": [
    "# Проверка на отсутсвующие значения\n",
    "df_dpi.isnull().sum()"
   ]
  },
  {
   "cell_type": "code",
   "execution_count": 90,
   "id": "a17f8da9-9565-4acf-8a32-34485e1244b7",
   "metadata": {},
   "outputs": [
    {
     "name": "stdout",
     "output_type": "stream",
     "text": [
      "<class 'pandas.core.frame.DataFrame'>\n",
      "Int64Index: 947734 entries, 1 to 949125\n",
      "Data columns (total 3 columns):\n",
      " #   Column           Non-Null Count   Dtype  \n",
      "---  ------           --------------   -----  \n",
      " 0   subscriber_id    947734 non-null  int64  \n",
      " 1   ssl_server_name  947734 non-null  object \n",
      " 2   data_traffic     947734 non-null  float64\n",
      "dtypes: float64(1), int64(1), object(1)\n",
      "memory usage: 28.9+ MB\n"
     ]
    }
   ],
   "source": [
    "# Удаление строк с отсутсвующими значениями\n",
    "df_dpi.dropna(inplace=True)\n",
    "df_dpi.info()"
   ]
  },
  {
   "cell_type": "code",
   "execution_count": 91,
   "id": "39be70f3-0c6b-4991-bb43-6ca4b678a2ea",
   "metadata": {},
   "outputs": [],
   "source": [
    "# Выделение данных из датафрейма main при совпадении id абонента между файлом main и dpi\n",
    "\n",
    "main_id_df=new_df.loc[new_df['subscriber_id'].isin(df_dpi.subscriber_id.unique())].copy(deep=True)\n",
    "main_id_df.reset_index(inplace=True, drop=True)"
   ]
  },
  {
   "cell_type": "code",
   "execution_count": 92,
   "id": "e7da6795-90e9-4552-b471-f6ce063cb2fb",
   "metadata": {},
   "outputs": [],
   "source": [
    "# Выделение данных из датафрейма dpi при совпадении id абонента между файлом main и dpi\n",
    "\n",
    "df_dpi=df_dpi.loc[df_dpi['subscriber_id'].isin(new_df.subscriber_id.unique())].copy(deep=True)\n",
    "df_dpi.reset_index(inplace=True, drop=True)"
   ]
  },
  {
   "cell_type": "code",
   "execution_count": 93,
   "id": "2db7dbdd-a9d4-4990-bb47-2e2d70fb2461",
   "metadata": {},
   "outputs": [
    {
     "data": {
      "text/html": [
       "<div>\n",
       "<style scoped>\n",
       "    .dataframe tbody tr th:only-of-type {\n",
       "        vertical-align: middle;\n",
       "    }\n",
       "\n",
       "    .dataframe tbody tr th {\n",
       "        vertical-align: top;\n",
       "    }\n",
       "\n",
       "    .dataframe thead tr th {\n",
       "        text-align: left;\n",
       "    }\n",
       "\n",
       "    .dataframe thead tr:last-of-type th {\n",
       "        text-align: right;\n",
       "    }\n",
       "</style>\n",
       "<table border=\"1\" class=\"dataframe\">\n",
       "  <thead>\n",
       "    <tr>\n",
       "      <th></th>\n",
       "      <th>data_traffic</th>\n",
       "      <th colspan=\"2\" halign=\"left\">ssl_server_name</th>\n",
       "    </tr>\n",
       "    <tr>\n",
       "      <th></th>\n",
       "      <th>sum</th>\n",
       "      <th>&lt;lambda_0&gt;</th>\n",
       "      <th>len</th>\n",
       "    </tr>\n",
       "    <tr>\n",
       "      <th>subscriber_id</th>\n",
       "      <th></th>\n",
       "      <th></th>\n",
       "      <th></th>\n",
       "    </tr>\n",
       "  </thead>\n",
       "  <tbody>\n",
       "    <tr>\n",
       "      <th>1</th>\n",
       "      <td>11376.0</td>\n",
       "      <td>scontent.fdyu2-1.fna.fbcdn.net,instagram.fdyu2...</td>\n",
       "      <td>871</td>\n",
       "    </tr>\n",
       "    <tr>\n",
       "      <th>7</th>\n",
       "      <td>7262.0</td>\n",
       "      <td>instagram.fdyu2-1.fna.fbcdn.net,cdn.pvvstream....</td>\n",
       "      <td>683</td>\n",
       "    </tr>\n",
       "    <tr>\n",
       "      <th>12</th>\n",
       "      <td>10802.0</td>\n",
       "      <td>rr1---sn-poqpbvuw-qt0s.googlevideo.com,rr2---s...</td>\n",
       "      <td>1464</td>\n",
       "    </tr>\n",
       "    <tr>\n",
       "      <th>18</th>\n",
       "      <td>780.0</td>\n",
       "      <td>media.fdyu2-1.fna.whatsapp.net,scontent.fdyu2-...</td>\n",
       "      <td>130</td>\n",
       "    </tr>\n",
       "    <tr>\n",
       "      <th>22</th>\n",
       "      <td>52.0</td>\n",
       "      <td>rr2---sn-poqpbvuw-qt0s.gvt1.com,media.fdyu2-1....</td>\n",
       "      <td>60</td>\n",
       "    </tr>\n",
       "    <tr>\n",
       "      <th>...</th>\n",
       "      <td>...</td>\n",
       "      <td>...</td>\n",
       "      <td>...</td>\n",
       "    </tr>\n",
       "    <tr>\n",
       "      <th>4480</th>\n",
       "      <td>20282.0</td>\n",
       "      <td>instagram.fdyu2-1.fna.fbcdn.net,v16m.tiktokcdn...</td>\n",
       "      <td>530</td>\n",
       "    </tr>\n",
       "    <tr>\n",
       "      <th>4481</th>\n",
       "      <td>15496.0</td>\n",
       "      <td>rr1---sn-poqpbvuw-qt0s.googlevideo.com,api.wea...</td>\n",
       "      <td>942</td>\n",
       "    </tr>\n",
       "    <tr>\n",
       "      <th>4490</th>\n",
       "      <td>7028.0</td>\n",
       "      <td>instagram.fdyu2-1.fna.fbcdn.net,scontent.fdyu2...</td>\n",
       "      <td>760</td>\n",
       "    </tr>\n",
       "    <tr>\n",
       "      <th>4492</th>\n",
       "      <td>8340.0</td>\n",
       "      <td>rr2---sn-poqpbvuw-qt0s.googlevideo.com,rr1---s...</td>\n",
       "      <td>553</td>\n",
       "    </tr>\n",
       "    <tr>\n",
       "      <th>4494</th>\n",
       "      <td>1861.0</td>\n",
       "      <td>rr1---sn-poqpbvuw-qt0s.googlevideo.com,rr2---s...</td>\n",
       "      <td>297</td>\n",
       "    </tr>\n",
       "  </tbody>\n",
       "</table>\n",
       "<p>1343 rows × 3 columns</p>\n",
       "</div>"
      ],
      "text/plain": [
       "              data_traffic                                    ssl_server_name  \\\n",
       "                       sum                                         <lambda_0>   \n",
       "subscriber_id                                                                   \n",
       "1                  11376.0  scontent.fdyu2-1.fna.fbcdn.net,instagram.fdyu2...   \n",
       "7                   7262.0  instagram.fdyu2-1.fna.fbcdn.net,cdn.pvvstream....   \n",
       "12                 10802.0  rr1---sn-poqpbvuw-qt0s.googlevideo.com,rr2---s...   \n",
       "18                   780.0  media.fdyu2-1.fna.whatsapp.net,scontent.fdyu2-...   \n",
       "22                    52.0  rr2---sn-poqpbvuw-qt0s.gvt1.com,media.fdyu2-1....   \n",
       "...                    ...                                                ...   \n",
       "4480               20282.0  instagram.fdyu2-1.fna.fbcdn.net,v16m.tiktokcdn...   \n",
       "4481               15496.0  rr1---sn-poqpbvuw-qt0s.googlevideo.com,api.wea...   \n",
       "4490                7028.0  instagram.fdyu2-1.fna.fbcdn.net,scontent.fdyu2...   \n",
       "4492                8340.0  rr2---sn-poqpbvuw-qt0s.googlevideo.com,rr1---s...   \n",
       "4494                1861.0  rr1---sn-poqpbvuw-qt0s.googlevideo.com,rr2---s...   \n",
       "\n",
       "                     \n",
       "                len  \n",
       "subscriber_id        \n",
       "1               871  \n",
       "7               683  \n",
       "12             1464  \n",
       "18              130  \n",
       "22               60  \n",
       "...             ...  \n",
       "4480            530  \n",
       "4481            942  \n",
       "4490            760  \n",
       "4492            553  \n",
       "4494            297  \n",
       "\n",
       "[1343 rows x 3 columns]"
      ]
     },
     "execution_count": 93,
     "metadata": {},
     "output_type": "execute_result"
    }
   ],
   "source": [
    "# сводная таблица  по id абонента\n",
    "\n",
    "dpi_piv=pd.pivot_table(df_dpi, index='subscriber_id', values=['ssl_server_name', 'data_traffic'], \n",
    "                       aggfunc={'ssl_server_name': [len, lambda x: \",\".join(str(v) for v in x)], 'data_traffic': np.sum})\n",
    "dpi_piv"
   ]
  },
  {
   "cell_type": "code",
   "execution_count": 94,
   "id": "3299b0ac-c27a-4625-8d73-7ad26945a2c8",
   "metadata": {},
   "outputs": [],
   "source": [
    "# Получение субдомена, домена и суффикса\n",
    "\n",
    "cust_dict=dict()\n",
    "all_list=list()\n",
    "for num, ind in enumerate(dpi_piv.index):\n",
    "    cust_dict[ind]=np.array(dpi_piv.ssl_server_name['<lambda_0>'].values[num].split(\",\"))\n",
    "for ind in cust_dict.keys():\n",
    "    sub_list=list()\n",
    "    dom_list=list()\n",
    "    suf_list=list()\n",
    "    for string in cust_dict[ind]:\n",
    "        extracted_info = tldextract.extract(string)\n",
    "        sub_list.append(extracted_info.subdomain)\n",
    "        dom_list.append(extracted_info.domain)\n",
    "        suf_list.append(extracted_info.suffix)\n",
    "    all_list.append([sub_list, dom_list, suf_list, ind])"
   ]
  },
  {
   "cell_type": "code",
   "execution_count": 95,
   "id": "0334490e-087a-46b5-a418-522b388d0c51",
   "metadata": {},
   "outputs": [],
   "source": [
    "# Создание новой фитчи, где присутсвует домен и частота его повторения \n",
    "\n",
    "new_fitch_df=pd.DataFrame(all_list, columns=['subdomain', 'domain', 'suffix', 'subscriber_id'])\n",
    "new_fitch_df.to_csv('new_fitch.csv', index=False)"
   ]
  },
  {
   "cell_type": "code",
   "execution_count": 96,
   "id": "4b898c0c-41c6-4627-87dd-e51954261dda",
   "metadata": {},
   "outputs": [
    {
     "data": {
      "text/html": [
       "<div>\n",
       "<style scoped>\n",
       "    .dataframe tbody tr th:only-of-type {\n",
       "        vertical-align: middle;\n",
       "    }\n",
       "\n",
       "    .dataframe tbody tr th {\n",
       "        vertical-align: top;\n",
       "    }\n",
       "\n",
       "    .dataframe thead th {\n",
       "        text-align: right;\n",
       "    }\n",
       "</style>\n",
       "<table border=\"1\" class=\"dataframe\">\n",
       "  <thead>\n",
       "    <tr style=\"text-align: right;\">\n",
       "      <th></th>\n",
       "      <th>subdomain</th>\n",
       "      <th>domain</th>\n",
       "      <th>suffix</th>\n",
       "      <th>subscriber_id</th>\n",
       "    </tr>\n",
       "  </thead>\n",
       "  <tbody>\n",
       "    <tr>\n",
       "      <th>0</th>\n",
       "      <td>[scontent.fdyu2-1.fna, instagram.fdyu2-1.fna, ...</td>\n",
       "      <td>[fbcdn, fbcdn, whatsapp, facebook, tiktokcdn, ...</td>\n",
       "      <td>[net, net, net, com, com, net, com, com, com, ...</td>\n",
       "      <td>1</td>\n",
       "    </tr>\n",
       "    <tr>\n",
       "      <th>1</th>\n",
       "      <td>[instagram.fdyu2-1.fna, cdn, video, i, mm, sco...</td>\n",
       "      <td>[fbcdn, pvvstream, faperoni, instagram, erkiss...</td>\n",
       "      <td>[net, pro, com, com, com, com, pro, net, com, ...</td>\n",
       "      <td>7</td>\n",
       "    </tr>\n",
       "    <tr>\n",
       "      <th>2</th>\n",
       "      <td>[rr1---sn-poqpbvuw-qt0s, rr2---sn-poqpbvuw-qt0...</td>\n",
       "      <td>[googlevideo, googlevideo, googlevideo, google...</td>\n",
       "      <td>[com, com, com, com, com, com, com, com, com, ...</td>\n",
       "      <td>12</td>\n",
       "    </tr>\n",
       "    <tr>\n",
       "      <th>3</th>\n",
       "      <td>[media.fdyu2-1.fna, scontent.fdyu2-1.fna, , gr...</td>\n",
       "      <td>[whatsapp, fbcdn, imo, facebook, whatsapp, goo...</td>\n",
       "      <td>[net, net, im, com, net, com, com, sg, net, ne...</td>\n",
       "      <td>18</td>\n",
       "    </tr>\n",
       "    <tr>\n",
       "      <th>4</th>\n",
       "      <td>[rr2---sn-poqpbvuw-qt0s, media.fdyu2-1.fna, ww...</td>\n",
       "      <td>[gvt1, whatsapp, googleapis, gstatic, facebook...</td>\n",
       "      <td>[com, net, com, com, com, com, net, com, com, ...</td>\n",
       "      <td>22</td>\n",
       "    </tr>\n",
       "    <tr>\n",
       "      <th>...</th>\n",
       "      <td>...</td>\n",
       "      <td>...</td>\n",
       "      <td>...</td>\n",
       "      <td>...</td>\n",
       "    </tr>\n",
       "    <tr>\n",
       "      <th>1338</th>\n",
       "      <td>[instagram.fdyu2-1.fna, v16m, v58, media.fdyu2...</td>\n",
       "      <td>[fbcdn, tiktokcdn, tiktokcdn, whatsapp, instag...</td>\n",
       "      <td>[net, com, com, net, com, net, com, com, com, ...</td>\n",
       "      <td>4480</td>\n",
       "    </tr>\n",
       "    <tr>\n",
       "      <th>1339</th>\n",
       "      <td>[rr1---sn-poqpbvuw-qt0s, api, rr1---sn-poqpbvu...</td>\n",
       "      <td>[googlevideo, weathercn, googlevideo, googlevi...</td>\n",
       "      <td>[com, com, com, com, com, net, net, com, com, ...</td>\n",
       "      <td>4481</td>\n",
       "    </tr>\n",
       "    <tr>\n",
       "      <th>1340</th>\n",
       "      <td>[instagram.fdyu2-1.fna, scontent.fdyu2-1.fna, ...</td>\n",
       "      <td>[fbcdn, fbcdn, tiktokcdn, cdninstagram, instag...</td>\n",
       "      <td>[net, net, com, com, com, com, net, io, com, c...</td>\n",
       "      <td>4490</td>\n",
       "    </tr>\n",
       "    <tr>\n",
       "      <th>1341</th>\n",
       "      <td>[rr2---sn-poqpbvuw-qt0s, rr1---sn-poqpbvuw-qt0...</td>\n",
       "      <td>[googlevideo, googlevideo, fbcdn, fbcdn, whats...</td>\n",
       "      <td>[com, com, net, net, net, com, net, com, com, ...</td>\n",
       "      <td>4492</td>\n",
       "    </tr>\n",
       "    <tr>\n",
       "      <th>1342</th>\n",
       "      <td>[rr1---sn-poqpbvuw-qt0s, rr2---sn-poqpbvuw-qt0...</td>\n",
       "      <td>[googlevideo, googlevideo, googlevideo, google...</td>\n",
       "      <td>[com, com, com, com, com, com, com, com, com, ...</td>\n",
       "      <td>4494</td>\n",
       "    </tr>\n",
       "  </tbody>\n",
       "</table>\n",
       "<p>1343 rows × 4 columns</p>\n",
       "</div>"
      ],
      "text/plain": [
       "                                              subdomain  \\\n",
       "0     [scontent.fdyu2-1.fna, instagram.fdyu2-1.fna, ...   \n",
       "1     [instagram.fdyu2-1.fna, cdn, video, i, mm, sco...   \n",
       "2     [rr1---sn-poqpbvuw-qt0s, rr2---sn-poqpbvuw-qt0...   \n",
       "3     [media.fdyu2-1.fna, scontent.fdyu2-1.fna, , gr...   \n",
       "4     [rr2---sn-poqpbvuw-qt0s, media.fdyu2-1.fna, ww...   \n",
       "...                                                 ...   \n",
       "1338  [instagram.fdyu2-1.fna, v16m, v58, media.fdyu2...   \n",
       "1339  [rr1---sn-poqpbvuw-qt0s, api, rr1---sn-poqpbvu...   \n",
       "1340  [instagram.fdyu2-1.fna, scontent.fdyu2-1.fna, ...   \n",
       "1341  [rr2---sn-poqpbvuw-qt0s, rr1---sn-poqpbvuw-qt0...   \n",
       "1342  [rr1---sn-poqpbvuw-qt0s, rr2---sn-poqpbvuw-qt0...   \n",
       "\n",
       "                                                 domain  \\\n",
       "0     [fbcdn, fbcdn, whatsapp, facebook, tiktokcdn, ...   \n",
       "1     [fbcdn, pvvstream, faperoni, instagram, erkiss...   \n",
       "2     [googlevideo, googlevideo, googlevideo, google...   \n",
       "3     [whatsapp, fbcdn, imo, facebook, whatsapp, goo...   \n",
       "4     [gvt1, whatsapp, googleapis, gstatic, facebook...   \n",
       "...                                                 ...   \n",
       "1338  [fbcdn, tiktokcdn, tiktokcdn, whatsapp, instag...   \n",
       "1339  [googlevideo, weathercn, googlevideo, googlevi...   \n",
       "1340  [fbcdn, fbcdn, tiktokcdn, cdninstagram, instag...   \n",
       "1341  [googlevideo, googlevideo, fbcdn, fbcdn, whats...   \n",
       "1342  [googlevideo, googlevideo, googlevideo, google...   \n",
       "\n",
       "                                                 suffix  subscriber_id  \n",
       "0     [net, net, net, com, com, net, com, com, com, ...              1  \n",
       "1     [net, pro, com, com, com, com, pro, net, com, ...              7  \n",
       "2     [com, com, com, com, com, com, com, com, com, ...             12  \n",
       "3     [net, net, im, com, net, com, com, sg, net, ne...             18  \n",
       "4     [com, net, com, com, com, com, net, com, com, ...             22  \n",
       "...                                                 ...            ...  \n",
       "1338  [net, com, com, net, com, net, com, com, com, ...           4480  \n",
       "1339  [com, com, com, com, com, net, net, com, com, ...           4481  \n",
       "1340  [net, net, com, com, com, com, net, io, com, c...           4490  \n",
       "1341  [com, com, net, net, net, com, net, com, com, ...           4492  \n",
       "1342  [com, com, com, com, com, com, com, com, com, ...           4494  \n",
       "\n",
       "[1343 rows x 4 columns]"
      ]
     },
     "execution_count": 96,
     "metadata": {},
     "output_type": "execute_result"
    }
   ],
   "source": [
    "new_fitch_df"
   ]
  },
  {
   "cell_type": "code",
   "execution_count": 97,
   "id": "ad7b4ff2-3a92-4c29-ba20-ef4137ee2341",
   "metadata": {},
   "outputs": [
    {
     "data": {
      "text/plain": [
       "132     11\n",
       "120     10\n",
       "103     10\n",
       "97      10\n",
       "86      10\n",
       "        ..\n",
       "871      1\n",
       "334      1\n",
       "1300     1\n",
       "352      1\n",
       "316      1\n",
       "Length: 464, dtype: int64"
      ]
     },
     "execution_count": 97,
     "metadata": {},
     "output_type": "execute_result"
    }
   ],
   "source": [
    "# Длина вектора доменов  \n",
    "\n",
    "len_sub=list()\n",
    "for i in range(len(new_fitch_df.domain)):\n",
    "    len_sub.append(len(pd.Series(new_fitch_df.domain[i]).value_counts().values))\n",
    "pd.Series(len_sub).value_counts()"
   ]
  },
  {
   "cell_type": "code",
   "execution_count": 98,
   "id": "aad97acc-653d-48e6-8bfe-a5c0147206af",
   "metadata": {},
   "outputs": [],
   "source": [
    "# Выделение 5 наиболее популярных доменов\n",
    "\n",
    "domain5_list=list()\n",
    "domain_counts_list=list()\n",
    "suf5_list=list()\n",
    "suffix_counts_list=list()\n",
    "for i in range(len(new_fitch_df.domain)):\n",
    "    domain5_list.append(list(pd.Series(new_fitch_df.domain[i]).value_counts()[:5].index))\n",
    "    suf5_list.append(list(pd.Series(new_fitch_df.suffix[i]).value_counts()[:5].index))\n",
    "    domain_counts_list.append(list(pd.Series(new_fitch_df.domain[i]).value_counts()[:5].values))\n",
    "    suffix_counts_list.append(list(pd.Series(new_fitch_df.suffix[i]).value_counts()[:5].values))"
   ]
  },
  {
   "cell_type": "code",
   "execution_count": 99,
   "id": "d8721528-7f07-4064-bb1e-8f9364729bfb",
   "metadata": {},
   "outputs": [],
   "source": [
    "# Запись в общий ДатаФрейм \n",
    "\n",
    "new_fitch_df['domain']=domain5_list\n",
    "new_fitch_df['suffix']=suf5_list\n",
    "\n",
    "new_fitch_df['domain_counts']=domain_counts_list\n",
    "new_fitch_df['suffix_counts']=suffix_counts_list"
   ]
  },
  {
   "cell_type": "code",
   "execution_count": 100,
   "id": "ee689786-e6f1-4696-ac4e-d30a5eac11ba",
   "metadata": {},
   "outputs": [
    {
     "data": {
      "text/html": [
       "<div>\n",
       "<style scoped>\n",
       "    .dataframe tbody tr th:only-of-type {\n",
       "        vertical-align: middle;\n",
       "    }\n",
       "\n",
       "    .dataframe tbody tr th {\n",
       "        vertical-align: top;\n",
       "    }\n",
       "\n",
       "    .dataframe thead th {\n",
       "        text-align: right;\n",
       "    }\n",
       "</style>\n",
       "<table border=\"1\" class=\"dataframe\">\n",
       "  <thead>\n",
       "    <tr style=\"text-align: right;\">\n",
       "      <th></th>\n",
       "      <th>subscriber_id</th>\n",
       "      <th>onnet_traffic</th>\n",
       "      <th>onnet_in_traffic</th>\n",
       "      <th>offnet_traffic</th>\n",
       "      <th>offnet_in_traffic</th>\n",
       "      <th>data_traffic</th>\n",
       "      <th>region_id</th>\n",
       "      <th>age</th>\n",
       "      <th>gender</th>\n",
       "      <th>device_type</th>\n",
       "      <th>...</th>\n",
       "      <th>Опция T-Games</th>\n",
       "      <th>Соц. сети 2.0</th>\n",
       "      <th>Соц. сети 2.0+</th>\n",
       "      <th>Тройной Безлимит+Тикток</th>\n",
       "      <th>Тройной безлимит</th>\n",
       "      <th>subdomain</th>\n",
       "      <th>domain</th>\n",
       "      <th>suffix</th>\n",
       "      <th>domain_counts</th>\n",
       "      <th>suffix_counts</th>\n",
       "    </tr>\n",
       "  </thead>\n",
       "  <tbody>\n",
       "    <tr>\n",
       "      <th>0</th>\n",
       "      <td>1</td>\n",
       "      <td>18.42</td>\n",
       "      <td>6.33</td>\n",
       "      <td>5.67</td>\n",
       "      <td>3.87</td>\n",
       "      <td>9165.39</td>\n",
       "      <td>52.0</td>\n",
       "      <td>19.0</td>\n",
       "      <td>m</td>\n",
       "      <td>4G Smartphones</td>\n",
       "      <td>...</td>\n",
       "      <td>NaN</td>\n",
       "      <td>NaN</td>\n",
       "      <td>NaN</td>\n",
       "      <td>NaN</td>\n",
       "      <td>NaN</td>\n",
       "      <td>[scontent.fdyu2-1.fna, instagram.fdyu2-1.fna, ...</td>\n",
       "      <td>[fbcdn, googleapis, tiktokv, google, yandex]</td>\n",
       "      <td>[com, net, ru, io, ms]</td>\n",
       "      <td>[99, 60, 41, 35, 30]</td>\n",
       "      <td>[541, 184, 57, 12, 10]</td>\n",
       "    </tr>\n",
       "    <tr>\n",
       "      <th>1</th>\n",
       "      <td>7</td>\n",
       "      <td>32.25</td>\n",
       "      <td>7.22</td>\n",
       "      <td>20.50</td>\n",
       "      <td>20.25</td>\n",
       "      <td>20278.49</td>\n",
       "      <td>17.0</td>\n",
       "      <td>24.0</td>\n",
       "      <td>w</td>\n",
       "      <td>4G Smartphones</td>\n",
       "      <td>...</td>\n",
       "      <td>NaN</td>\n",
       "      <td>NaN</td>\n",
       "      <td>NaN</td>\n",
       "      <td>NaN</td>\n",
       "      <td>NaN</td>\n",
       "      <td>[instagram.fdyu2-1.fna, cdn, video, i, mm, sco...</td>\n",
       "      <td>[userapi, googleapis, fbcdn, google, tiktokv]</td>\n",
       "      <td>[com, net, ru, pro, io]</td>\n",
       "      <td>[85, 53, 46, 34, 20]</td>\n",
       "      <td>[516, 92, 24, 10, 7]</td>\n",
       "    </tr>\n",
       "    <tr>\n",
       "      <th>2</th>\n",
       "      <td>12</td>\n",
       "      <td>237.43</td>\n",
       "      <td>159.13</td>\n",
       "      <td>0.00</td>\n",
       "      <td>0.00</td>\n",
       "      <td>15722.47</td>\n",
       "      <td>49.0</td>\n",
       "      <td>48.0</td>\n",
       "      <td>m</td>\n",
       "      <td>4G Smartphones</td>\n",
       "      <td>...</td>\n",
       "      <td>NaN</td>\n",
       "      <td>NaN</td>\n",
       "      <td>NaN</td>\n",
       "      <td>NaN</td>\n",
       "      <td>NaN</td>\n",
       "      <td>[rr1---sn-poqpbvuw-qt0s, rr2---sn-poqpbvuw-qt0...</td>\n",
       "      <td>[pushy, googlevideo, yandex, googleapis, google]</td>\n",
       "      <td>[com, io, net, ru, me]</td>\n",
       "      <td>[554, 307, 55, 52, 25]</td>\n",
       "      <td>[695, 561, 87, 59, 19]</td>\n",
       "    </tr>\n",
       "    <tr>\n",
       "      <th>3</th>\n",
       "      <td>18</td>\n",
       "      <td>269.85</td>\n",
       "      <td>83.37</td>\n",
       "      <td>0.00</td>\n",
       "      <td>1.75</td>\n",
       "      <td>8188.74</td>\n",
       "      <td>49.0</td>\n",
       "      <td>60.0</td>\n",
       "      <td>w</td>\n",
       "      <td>4G Smartphones</td>\n",
       "      <td>...</td>\n",
       "      <td>NaN</td>\n",
       "      <td>NaN</td>\n",
       "      <td>NaN</td>\n",
       "      <td>NaN</td>\n",
       "      <td>NaN</td>\n",
       "      <td>[media.fdyu2-1.fna, scontent.fdyu2-1.fna, , gr...</td>\n",
       "      <td>[fbcdn, googleapis, google, whatsapp, facebook]</td>\n",
       "      <td>[com, net, org, im, sg]</td>\n",
       "      <td>[42, 17, 15, 13, 11]</td>\n",
       "      <td>[65, 57, 2, 1, 1]</td>\n",
       "    </tr>\n",
       "    <tr>\n",
       "      <th>4</th>\n",
       "      <td>22</td>\n",
       "      <td>901.07</td>\n",
       "      <td>2728.38</td>\n",
       "      <td>0.00</td>\n",
       "      <td>0.00</td>\n",
       "      <td>4388.89</td>\n",
       "      <td>46.0</td>\n",
       "      <td>33.0</td>\n",
       "      <td>w</td>\n",
       "      <td>4G Smartphones</td>\n",
       "      <td>...</td>\n",
       "      <td>NaN</td>\n",
       "      <td>NaN</td>\n",
       "      <td>NaN</td>\n",
       "      <td>NaN</td>\n",
       "      <td>NaN</td>\n",
       "      <td>[rr2---sn-poqpbvuw-qt0s, media.fdyu2-1.fna, ww...</td>\n",
       "      <td>[googleapis, google, whatsapp, gvt1, gvt2]</td>\n",
       "      <td>[com, net, site, net.in, world]</td>\n",
       "      <td>[16, 11, 7, 4, 4]</td>\n",
       "      <td>[48, 9, 1, 1, 1]</td>\n",
       "    </tr>\n",
       "    <tr>\n",
       "      <th>...</th>\n",
       "      <td>...</td>\n",
       "      <td>...</td>\n",
       "      <td>...</td>\n",
       "      <td>...</td>\n",
       "      <td>...</td>\n",
       "      <td>...</td>\n",
       "      <td>...</td>\n",
       "      <td>...</td>\n",
       "      <td>...</td>\n",
       "      <td>...</td>\n",
       "      <td>...</td>\n",
       "      <td>...</td>\n",
       "      <td>...</td>\n",
       "      <td>...</td>\n",
       "      <td>...</td>\n",
       "      <td>...</td>\n",
       "      <td>...</td>\n",
       "      <td>...</td>\n",
       "      <td>...</td>\n",
       "      <td>...</td>\n",
       "      <td>...</td>\n",
       "    </tr>\n",
       "    <tr>\n",
       "      <th>1338</th>\n",
       "      <td>4480</td>\n",
       "      <td>1.25</td>\n",
       "      <td>3.22</td>\n",
       "      <td>3.15</td>\n",
       "      <td>1.40</td>\n",
       "      <td>22536.89</td>\n",
       "      <td>27.0</td>\n",
       "      <td>24.0</td>\n",
       "      <td>m</td>\n",
       "      <td>Smartphones</td>\n",
       "      <td>...</td>\n",
       "      <td>NaN</td>\n",
       "      <td>NaN</td>\n",
       "      <td>NaN</td>\n",
       "      <td>NaN</td>\n",
       "      <td>NaN</td>\n",
       "      <td>[instagram.fdyu2-1.fna, v16m, v58, media.fdyu2...</td>\n",
       "      <td>[fbcdn, googleapis, tiktokv, google, xiaomi]</td>\n",
       "      <td>[com, net, org, io, mobi]</td>\n",
       "      <td>[60, 52, 38, 32, 15]</td>\n",
       "      <td>[405, 97, 4, 4, 3]</td>\n",
       "    </tr>\n",
       "    <tr>\n",
       "      <th>1339</th>\n",
       "      <td>4481</td>\n",
       "      <td>9.18</td>\n",
       "      <td>1.15</td>\n",
       "      <td>17.33</td>\n",
       "      <td>0.18</td>\n",
       "      <td>31944.21</td>\n",
       "      <td>37.0</td>\n",
       "      <td>24.0</td>\n",
       "      <td>m</td>\n",
       "      <td>4G Smartphones</td>\n",
       "      <td>...</td>\n",
       "      <td>NaN</td>\n",
       "      <td>NaN</td>\n",
       "      <td>NaN</td>\n",
       "      <td>NaN</td>\n",
       "      <td>NaN</td>\n",
       "      <td>[rr1---sn-poqpbvuw-qt0s, api, rr1---sn-poqpbvu...</td>\n",
       "      <td>[googlevideo, googleapis, yandex, fbcdn, tiktokv]</td>\n",
       "      <td>[com, net, ru, uz, tech]</td>\n",
       "      <td>[252, 77, 53, 53, 40]</td>\n",
       "      <td>[609, 146, 114, 6, 6]</td>\n",
       "    </tr>\n",
       "    <tr>\n",
       "      <th>1340</th>\n",
       "      <td>4490</td>\n",
       "      <td>1.00</td>\n",
       "      <td>0.12</td>\n",
       "      <td>1.55</td>\n",
       "      <td>1.02</td>\n",
       "      <td>10241.33</td>\n",
       "      <td>17.0</td>\n",
       "      <td>30.0</td>\n",
       "      <td>m</td>\n",
       "      <td>Unidentified Devices</td>\n",
       "      <td>...</td>\n",
       "      <td>1.0</td>\n",
       "      <td>NaN</td>\n",
       "      <td>NaN</td>\n",
       "      <td>NaN</td>\n",
       "      <td>NaN</td>\n",
       "      <td>[instagram.fdyu2-1.fna, scontent.fdyu2-1.fna, ...</td>\n",
       "      <td>[apple, tiktokv, fbcdn, tiktokcdn, googleapis]</td>\n",
       "      <td>[com, net, ru, org, io]</td>\n",
       "      <td>[103, 35, 33, 28, 26]</td>\n",
       "      <td>[571, 85, 21, 15, 12]</td>\n",
       "    </tr>\n",
       "    <tr>\n",
       "      <th>1341</th>\n",
       "      <td>4492</td>\n",
       "      <td>310.93</td>\n",
       "      <td>334.90</td>\n",
       "      <td>1.25</td>\n",
       "      <td>92.82</td>\n",
       "      <td>12171.90</td>\n",
       "      <td>37.0</td>\n",
       "      <td>28.0</td>\n",
       "      <td>w</td>\n",
       "      <td>4G Smartphones</td>\n",
       "      <td>...</td>\n",
       "      <td>NaN</td>\n",
       "      <td>NaN</td>\n",
       "      <td>NaN</td>\n",
       "      <td>NaN</td>\n",
       "      <td>NaN</td>\n",
       "      <td>[rr2---sn-poqpbvuw-qt0s, rr1---sn-poqpbvuw-qt0...</td>\n",
       "      <td>[googlevideo, googleapis, google, fbcdn, viber]</td>\n",
       "      <td>[com, net, ru, io, mobi]</td>\n",
       "      <td>[89, 70, 33, 19, 14]</td>\n",
       "      <td>[450, 65, 9, 8, 4]</td>\n",
       "    </tr>\n",
       "    <tr>\n",
       "      <th>1342</th>\n",
       "      <td>4494</td>\n",
       "      <td>206.58</td>\n",
       "      <td>18.53</td>\n",
       "      <td>4.02</td>\n",
       "      <td>6.10</td>\n",
       "      <td>20279.11</td>\n",
       "      <td>37.0</td>\n",
       "      <td>29.0</td>\n",
       "      <td>m</td>\n",
       "      <td>4G Smartphones</td>\n",
       "      <td>...</td>\n",
       "      <td>NaN</td>\n",
       "      <td>NaN</td>\n",
       "      <td>NaN</td>\n",
       "      <td>NaN</td>\n",
       "      <td>NaN</td>\n",
       "      <td>[rr1---sn-poqpbvuw-qt0s, rr2---sn-poqpbvuw-qt0...</td>\n",
       "      <td>[googlevideo, google, googleapis, yandex, gsta...</td>\n",
       "      <td>[com, net, ru, org, com.tj]</td>\n",
       "      <td>[129, 26, 24, 13, 7]</td>\n",
       "      <td>[253, 20, 13, 3, 2]</td>\n",
       "    </tr>\n",
       "  </tbody>\n",
       "</table>\n",
       "<p>1343 rows × 50 columns</p>\n",
       "</div>"
      ],
      "text/plain": [
       "      subscriber_id  onnet_traffic  onnet_in_traffic  offnet_traffic  \\\n",
       "0                 1          18.42              6.33            5.67   \n",
       "1                 7          32.25              7.22           20.50   \n",
       "2                12         237.43            159.13            0.00   \n",
       "3                18         269.85             83.37            0.00   \n",
       "4                22         901.07           2728.38            0.00   \n",
       "...             ...            ...               ...             ...   \n",
       "1338           4480           1.25              3.22            3.15   \n",
       "1339           4481           9.18              1.15           17.33   \n",
       "1340           4490           1.00              0.12            1.55   \n",
       "1341           4492         310.93            334.90            1.25   \n",
       "1342           4494         206.58             18.53            4.02   \n",
       "\n",
       "      offnet_in_traffic  data_traffic  region_id   age gender  \\\n",
       "0                  3.87       9165.39       52.0  19.0      m   \n",
       "1                 20.25      20278.49       17.0  24.0      w   \n",
       "2                  0.00      15722.47       49.0  48.0      m   \n",
       "3                  1.75       8188.74       49.0  60.0      w   \n",
       "4                  0.00       4388.89       46.0  33.0      w   \n",
       "...                 ...           ...        ...   ...    ...   \n",
       "1338               1.40      22536.89       27.0  24.0      m   \n",
       "1339               0.18      31944.21       37.0  24.0      m   \n",
       "1340               1.02      10241.33       17.0  30.0      m   \n",
       "1341              92.82      12171.90       37.0  28.0      w   \n",
       "1342               6.10      20279.11       37.0  29.0      m   \n",
       "\n",
       "               device_type  ...  Опция T-Games  Соц. сети 2.0  Соц. сети 2.0+  \\\n",
       "0           4G Smartphones  ...            NaN            NaN             NaN   \n",
       "1           4G Smartphones  ...            NaN            NaN             NaN   \n",
       "2           4G Smartphones  ...            NaN            NaN             NaN   \n",
       "3           4G Smartphones  ...            NaN            NaN             NaN   \n",
       "4           4G Smartphones  ...            NaN            NaN             NaN   \n",
       "...                    ...  ...            ...            ...             ...   \n",
       "1338           Smartphones  ...            NaN            NaN             NaN   \n",
       "1339        4G Smartphones  ...            NaN            NaN             NaN   \n",
       "1340  Unidentified Devices  ...            1.0            NaN             NaN   \n",
       "1341        4G Smartphones  ...            NaN            NaN             NaN   \n",
       "1342        4G Smartphones  ...            NaN            NaN             NaN   \n",
       "\n",
       "      Тройной Безлимит+Тикток  Тройной безлимит  \\\n",
       "0                         NaN               NaN   \n",
       "1                         NaN               NaN   \n",
       "2                         NaN               NaN   \n",
       "3                         NaN               NaN   \n",
       "4                         NaN               NaN   \n",
       "...                       ...               ...   \n",
       "1338                      NaN               NaN   \n",
       "1339                      NaN               NaN   \n",
       "1340                      NaN               NaN   \n",
       "1341                      NaN               NaN   \n",
       "1342                      NaN               NaN   \n",
       "\n",
       "                                              subdomain  \\\n",
       "0     [scontent.fdyu2-1.fna, instagram.fdyu2-1.fna, ...   \n",
       "1     [instagram.fdyu2-1.fna, cdn, video, i, mm, sco...   \n",
       "2     [rr1---sn-poqpbvuw-qt0s, rr2---sn-poqpbvuw-qt0...   \n",
       "3     [media.fdyu2-1.fna, scontent.fdyu2-1.fna, , gr...   \n",
       "4     [rr2---sn-poqpbvuw-qt0s, media.fdyu2-1.fna, ww...   \n",
       "...                                                 ...   \n",
       "1338  [instagram.fdyu2-1.fna, v16m, v58, media.fdyu2...   \n",
       "1339  [rr1---sn-poqpbvuw-qt0s, api, rr1---sn-poqpbvu...   \n",
       "1340  [instagram.fdyu2-1.fna, scontent.fdyu2-1.fna, ...   \n",
       "1341  [rr2---sn-poqpbvuw-qt0s, rr1---sn-poqpbvuw-qt0...   \n",
       "1342  [rr1---sn-poqpbvuw-qt0s, rr2---sn-poqpbvuw-qt0...   \n",
       "\n",
       "                                                 domain  \\\n",
       "0          [fbcdn, googleapis, tiktokv, google, yandex]   \n",
       "1         [userapi, googleapis, fbcdn, google, tiktokv]   \n",
       "2      [pushy, googlevideo, yandex, googleapis, google]   \n",
       "3       [fbcdn, googleapis, google, whatsapp, facebook]   \n",
       "4            [googleapis, google, whatsapp, gvt1, gvt2]   \n",
       "...                                                 ...   \n",
       "1338       [fbcdn, googleapis, tiktokv, google, xiaomi]   \n",
       "1339  [googlevideo, googleapis, yandex, fbcdn, tiktokv]   \n",
       "1340     [apple, tiktokv, fbcdn, tiktokcdn, googleapis]   \n",
       "1341    [googlevideo, googleapis, google, fbcdn, viber]   \n",
       "1342  [googlevideo, google, googleapis, yandex, gsta...   \n",
       "\n",
       "                               suffix           domain_counts  \\\n",
       "0              [com, net, ru, io, ms]    [99, 60, 41, 35, 30]   \n",
       "1             [com, net, ru, pro, io]    [85, 53, 46, 34, 20]   \n",
       "2              [com, io, net, ru, me]  [554, 307, 55, 52, 25]   \n",
       "3             [com, net, org, im, sg]    [42, 17, 15, 13, 11]   \n",
       "4     [com, net, site, net.in, world]       [16, 11, 7, 4, 4]   \n",
       "...                               ...                     ...   \n",
       "1338        [com, net, org, io, mobi]    [60, 52, 38, 32, 15]   \n",
       "1339         [com, net, ru, uz, tech]   [252, 77, 53, 53, 40]   \n",
       "1340          [com, net, ru, org, io]   [103, 35, 33, 28, 26]   \n",
       "1341         [com, net, ru, io, mobi]    [89, 70, 33, 19, 14]   \n",
       "1342      [com, net, ru, org, com.tj]    [129, 26, 24, 13, 7]   \n",
       "\n",
       "               suffix_counts  \n",
       "0     [541, 184, 57, 12, 10]  \n",
       "1       [516, 92, 24, 10, 7]  \n",
       "2     [695, 561, 87, 59, 19]  \n",
       "3          [65, 57, 2, 1, 1]  \n",
       "4           [48, 9, 1, 1, 1]  \n",
       "...                      ...  \n",
       "1338      [405, 97, 4, 4, 3]  \n",
       "1339   [609, 146, 114, 6, 6]  \n",
       "1340   [571, 85, 21, 15, 12]  \n",
       "1341      [450, 65, 9, 8, 4]  \n",
       "1342     [253, 20, 13, 3, 2]  \n",
       "\n",
       "[1343 rows x 50 columns]"
      ]
     },
     "execution_count": 100,
     "metadata": {},
     "output_type": "execute_result"
    }
   ],
   "source": [
    "# Создание новых фитч, где присутсвуют данные по субдомену, домену и суффиксу и их кол-во\n",
    "\n",
    "main_id_new=pd.concat([main_id_df, new_fitch_df[['subdomain', 'domain', 'suffix', 'domain_counts', 'suffix_counts']]], axis=1)\n",
    "main_id_new"
   ]
  },
  {
   "cell_type": "code",
   "execution_count": 101,
   "id": "a03d09f4-c9f5-4faf-92a4-61305671695b",
   "metadata": {},
   "outputs": [
    {
     "data": {
      "text/html": [
       "<div>\n",
       "<style scoped>\n",
       "    .dataframe tbody tr th:only-of-type {\n",
       "        vertical-align: middle;\n",
       "    }\n",
       "\n",
       "    .dataframe tbody tr th {\n",
       "        vertical-align: top;\n",
       "    }\n",
       "\n",
       "    .dataframe thead th {\n",
       "        text-align: right;\n",
       "    }\n",
       "</style>\n",
       "<table border=\"1\" class=\"dataframe\">\n",
       "  <thead>\n",
       "    <tr style=\"text-align: right;\">\n",
       "      <th></th>\n",
       "      <th>subscriber_id</th>\n",
       "      <th>onnet_traffic</th>\n",
       "      <th>onnet_in_traffic</th>\n",
       "      <th>offnet_traffic</th>\n",
       "      <th>offnet_in_traffic</th>\n",
       "      <th>data_traffic</th>\n",
       "      <th>region_id</th>\n",
       "      <th>age</th>\n",
       "      <th>gender</th>\n",
       "      <th>device_type</th>\n",
       "      <th>...</th>\n",
       "      <th>Опция T-Games</th>\n",
       "      <th>Соц. сети 2.0</th>\n",
       "      <th>Соц. сети 2.0+</th>\n",
       "      <th>Тройной Безлимит+Тикток</th>\n",
       "      <th>Тройной безлимит</th>\n",
       "      <th>subdomain</th>\n",
       "      <th>domain</th>\n",
       "      <th>suffix</th>\n",
       "      <th>domain_counts</th>\n",
       "      <th>suffix_counts</th>\n",
       "    </tr>\n",
       "  </thead>\n",
       "  <tbody>\n",
       "    <tr>\n",
       "      <th>1</th>\n",
       "      <td>7</td>\n",
       "      <td>32.25</td>\n",
       "      <td>7.22</td>\n",
       "      <td>20.50</td>\n",
       "      <td>20.25</td>\n",
       "      <td>20278.49</td>\n",
       "      <td>17.0</td>\n",
       "      <td>24.0</td>\n",
       "      <td>w</td>\n",
       "      <td>4G Smartphones</td>\n",
       "      <td>...</td>\n",
       "      <td>NaN</td>\n",
       "      <td>NaN</td>\n",
       "      <td>NaN</td>\n",
       "      <td>NaN</td>\n",
       "      <td>NaN</td>\n",
       "      <td>[instagram.fdyu2-1.fna, cdn, video, i, mm, sco...</td>\n",
       "      <td>[userapi, googleapis, fbcdn, google, tiktokv]</td>\n",
       "      <td>[com, net, ru, pro, io]</td>\n",
       "      <td>[85, 53, 46, 34, 20]</td>\n",
       "      <td>[516, 92, 24, 10, 7]</td>\n",
       "    </tr>\n",
       "    <tr>\n",
       "      <th>2</th>\n",
       "      <td>12</td>\n",
       "      <td>237.43</td>\n",
       "      <td>159.13</td>\n",
       "      <td>0.00</td>\n",
       "      <td>0.00</td>\n",
       "      <td>15722.47</td>\n",
       "      <td>49.0</td>\n",
       "      <td>48.0</td>\n",
       "      <td>m</td>\n",
       "      <td>4G Smartphones</td>\n",
       "      <td>...</td>\n",
       "      <td>NaN</td>\n",
       "      <td>NaN</td>\n",
       "      <td>NaN</td>\n",
       "      <td>NaN</td>\n",
       "      <td>NaN</td>\n",
       "      <td>[rr1---sn-poqpbvuw-qt0s, rr2---sn-poqpbvuw-qt0...</td>\n",
       "      <td>[pushy, googlevideo, yandex, googleapis, google]</td>\n",
       "      <td>[com, io, net, ru, me]</td>\n",
       "      <td>[554, 307, 55, 52, 25]</td>\n",
       "      <td>[695, 561, 87, 59, 19]</td>\n",
       "    </tr>\n",
       "    <tr>\n",
       "      <th>6</th>\n",
       "      <td>31</td>\n",
       "      <td>56.03</td>\n",
       "      <td>69.92</td>\n",
       "      <td>6.88</td>\n",
       "      <td>20.75</td>\n",
       "      <td>47099.70</td>\n",
       "      <td>50.0</td>\n",
       "      <td>21.0</td>\n",
       "      <td>m</td>\n",
       "      <td>4G Smartphones</td>\n",
       "      <td>...</td>\n",
       "      <td>1.0</td>\n",
       "      <td>NaN</td>\n",
       "      <td>NaN</td>\n",
       "      <td>NaN</td>\n",
       "      <td>NaN</td>\n",
       "      <td>[instagram.fdyu2-1.fna, v16m, v58, i, gdl, www...</td>\n",
       "      <td>[fbcdn, googlevideo, userapi, googleapis, tikt...</td>\n",
       "      <td>[com, net, ru, io, me]</td>\n",
       "      <td>[181, 119, 84, 74, 42]</td>\n",
       "      <td>[964, 276, 38, 15, 13]</td>\n",
       "    </tr>\n",
       "    <tr>\n",
       "      <th>11</th>\n",
       "      <td>44</td>\n",
       "      <td>90.60</td>\n",
       "      <td>54.22</td>\n",
       "      <td>0.98</td>\n",
       "      <td>0.67</td>\n",
       "      <td>22927.13</td>\n",
       "      <td>58.0</td>\n",
       "      <td>26.0</td>\n",
       "      <td>m</td>\n",
       "      <td>NaN</td>\n",
       "      <td>...</td>\n",
       "      <td>NaN</td>\n",
       "      <td>NaN</td>\n",
       "      <td>NaN</td>\n",
       "      <td>NaN</td>\n",
       "      <td>NaN</td>\n",
       "      <td>[i, rr1---sn-poqpbvuw-qt0s, rr2---sn-poqpbvuw-...</td>\n",
       "      <td>[mycdn, yandex, googleapis, awmcdn, google]</td>\n",
       "      <td>[com, net, me, ru, st]</td>\n",
       "      <td>[180, 100, 60, 59, 37]</td>\n",
       "      <td>[580, 199, 184, 133, 11]</td>\n",
       "    </tr>\n",
       "    <tr>\n",
       "      <th>13</th>\n",
       "      <td>52</td>\n",
       "      <td>495.70</td>\n",
       "      <td>84.20</td>\n",
       "      <td>0.30</td>\n",
       "      <td>0.22</td>\n",
       "      <td>21016.95</td>\n",
       "      <td>48.0</td>\n",
       "      <td>50.0</td>\n",
       "      <td>w</td>\n",
       "      <td>4G Smartphones</td>\n",
       "      <td>...</td>\n",
       "      <td>NaN</td>\n",
       "      <td>NaN</td>\n",
       "      <td>NaN</td>\n",
       "      <td>NaN</td>\n",
       "      <td>NaN</td>\n",
       "      <td>[v16m, v58, rr2---sn-poqpbvuw-qt0s, sf16-gecko...</td>\n",
       "      <td>[googlevideo, googleapis, yandex, tiktokv, goo...</td>\n",
       "      <td>[com, ru, net, me, io]</td>\n",
       "      <td>[47, 44, 35, 30, 27]</td>\n",
       "      <td>[266, 46, 41, 27, 6]</td>\n",
       "    </tr>\n",
       "    <tr>\n",
       "      <th>...</th>\n",
       "      <td>...</td>\n",
       "      <td>...</td>\n",
       "      <td>...</td>\n",
       "      <td>...</td>\n",
       "      <td>...</td>\n",
       "      <td>...</td>\n",
       "      <td>...</td>\n",
       "      <td>...</td>\n",
       "      <td>...</td>\n",
       "      <td>...</td>\n",
       "      <td>...</td>\n",
       "      <td>...</td>\n",
       "      <td>...</td>\n",
       "      <td>...</td>\n",
       "      <td>...</td>\n",
       "      <td>...</td>\n",
       "      <td>...</td>\n",
       "      <td>...</td>\n",
       "      <td>...</td>\n",
       "      <td>...</td>\n",
       "      <td>...</td>\n",
       "    </tr>\n",
       "    <tr>\n",
       "      <th>1338</th>\n",
       "      <td>4480</td>\n",
       "      <td>1.25</td>\n",
       "      <td>3.22</td>\n",
       "      <td>3.15</td>\n",
       "      <td>1.40</td>\n",
       "      <td>22536.89</td>\n",
       "      <td>27.0</td>\n",
       "      <td>24.0</td>\n",
       "      <td>m</td>\n",
       "      <td>Smartphones</td>\n",
       "      <td>...</td>\n",
       "      <td>NaN</td>\n",
       "      <td>NaN</td>\n",
       "      <td>NaN</td>\n",
       "      <td>NaN</td>\n",
       "      <td>NaN</td>\n",
       "      <td>[instagram.fdyu2-1.fna, v16m, v58, media.fdyu2...</td>\n",
       "      <td>[fbcdn, googleapis, tiktokv, google, xiaomi]</td>\n",
       "      <td>[com, net, org, io, mobi]</td>\n",
       "      <td>[60, 52, 38, 32, 15]</td>\n",
       "      <td>[405, 97, 4, 4, 3]</td>\n",
       "    </tr>\n",
       "    <tr>\n",
       "      <th>1339</th>\n",
       "      <td>4481</td>\n",
       "      <td>9.18</td>\n",
       "      <td>1.15</td>\n",
       "      <td>17.33</td>\n",
       "      <td>0.18</td>\n",
       "      <td>31944.21</td>\n",
       "      <td>37.0</td>\n",
       "      <td>24.0</td>\n",
       "      <td>m</td>\n",
       "      <td>4G Smartphones</td>\n",
       "      <td>...</td>\n",
       "      <td>NaN</td>\n",
       "      <td>NaN</td>\n",
       "      <td>NaN</td>\n",
       "      <td>NaN</td>\n",
       "      <td>NaN</td>\n",
       "      <td>[rr1---sn-poqpbvuw-qt0s, api, rr1---sn-poqpbvu...</td>\n",
       "      <td>[googlevideo, googleapis, yandex, fbcdn, tiktokv]</td>\n",
       "      <td>[com, net, ru, uz, tech]</td>\n",
       "      <td>[252, 77, 53, 53, 40]</td>\n",
       "      <td>[609, 146, 114, 6, 6]</td>\n",
       "    </tr>\n",
       "    <tr>\n",
       "      <th>1340</th>\n",
       "      <td>4490</td>\n",
       "      <td>1.00</td>\n",
       "      <td>0.12</td>\n",
       "      <td>1.55</td>\n",
       "      <td>1.02</td>\n",
       "      <td>10241.33</td>\n",
       "      <td>17.0</td>\n",
       "      <td>30.0</td>\n",
       "      <td>m</td>\n",
       "      <td>Unidentified Devices</td>\n",
       "      <td>...</td>\n",
       "      <td>1.0</td>\n",
       "      <td>NaN</td>\n",
       "      <td>NaN</td>\n",
       "      <td>NaN</td>\n",
       "      <td>NaN</td>\n",
       "      <td>[instagram.fdyu2-1.fna, scontent.fdyu2-1.fna, ...</td>\n",
       "      <td>[apple, tiktokv, fbcdn, tiktokcdn, googleapis]</td>\n",
       "      <td>[com, net, ru, org, io]</td>\n",
       "      <td>[103, 35, 33, 28, 26]</td>\n",
       "      <td>[571, 85, 21, 15, 12]</td>\n",
       "    </tr>\n",
       "    <tr>\n",
       "      <th>1341</th>\n",
       "      <td>4492</td>\n",
       "      <td>310.93</td>\n",
       "      <td>334.90</td>\n",
       "      <td>1.25</td>\n",
       "      <td>92.82</td>\n",
       "      <td>12171.90</td>\n",
       "      <td>37.0</td>\n",
       "      <td>28.0</td>\n",
       "      <td>w</td>\n",
       "      <td>4G Smartphones</td>\n",
       "      <td>...</td>\n",
       "      <td>NaN</td>\n",
       "      <td>NaN</td>\n",
       "      <td>NaN</td>\n",
       "      <td>NaN</td>\n",
       "      <td>NaN</td>\n",
       "      <td>[rr2---sn-poqpbvuw-qt0s, rr1---sn-poqpbvuw-qt0...</td>\n",
       "      <td>[googlevideo, googleapis, google, fbcdn, viber]</td>\n",
       "      <td>[com, net, ru, io, mobi]</td>\n",
       "      <td>[89, 70, 33, 19, 14]</td>\n",
       "      <td>[450, 65, 9, 8, 4]</td>\n",
       "    </tr>\n",
       "    <tr>\n",
       "      <th>1342</th>\n",
       "      <td>4494</td>\n",
       "      <td>206.58</td>\n",
       "      <td>18.53</td>\n",
       "      <td>4.02</td>\n",
       "      <td>6.10</td>\n",
       "      <td>20279.11</td>\n",
       "      <td>37.0</td>\n",
       "      <td>29.0</td>\n",
       "      <td>m</td>\n",
       "      <td>4G Smartphones</td>\n",
       "      <td>...</td>\n",
       "      <td>NaN</td>\n",
       "      <td>NaN</td>\n",
       "      <td>NaN</td>\n",
       "      <td>NaN</td>\n",
       "      <td>NaN</td>\n",
       "      <td>[rr1---sn-poqpbvuw-qt0s, rr2---sn-poqpbvuw-qt0...</td>\n",
       "      <td>[googlevideo, google, googleapis, yandex, gsta...</td>\n",
       "      <td>[com, net, ru, org, com.tj]</td>\n",
       "      <td>[129, 26, 24, 13, 7]</td>\n",
       "      <td>[253, 20, 13, 3, 2]</td>\n",
       "    </tr>\n",
       "  </tbody>\n",
       "</table>\n",
       "<p>1243 rows × 50 columns</p>\n",
       "</div>"
      ],
      "text/plain": [
       "      subscriber_id  onnet_traffic  onnet_in_traffic  offnet_traffic  \\\n",
       "1                 7          32.25              7.22           20.50   \n",
       "2                12         237.43            159.13            0.00   \n",
       "6                31          56.03             69.92            6.88   \n",
       "11               44          90.60             54.22            0.98   \n",
       "13               52         495.70             84.20            0.30   \n",
       "...             ...            ...               ...             ...   \n",
       "1338           4480           1.25              3.22            3.15   \n",
       "1339           4481           9.18              1.15           17.33   \n",
       "1340           4490           1.00              0.12            1.55   \n",
       "1341           4492         310.93            334.90            1.25   \n",
       "1342           4494         206.58             18.53            4.02   \n",
       "\n",
       "      offnet_in_traffic  data_traffic  region_id   age gender  \\\n",
       "1                 20.25      20278.49       17.0  24.0      w   \n",
       "2                  0.00      15722.47       49.0  48.0      m   \n",
       "6                 20.75      47099.70       50.0  21.0      m   \n",
       "11                 0.67      22927.13       58.0  26.0      m   \n",
       "13                 0.22      21016.95       48.0  50.0      w   \n",
       "...                 ...           ...        ...   ...    ...   \n",
       "1338               1.40      22536.89       27.0  24.0      m   \n",
       "1339               0.18      31944.21       37.0  24.0      m   \n",
       "1340               1.02      10241.33       17.0  30.0      m   \n",
       "1341              92.82      12171.90       37.0  28.0      w   \n",
       "1342               6.10      20279.11       37.0  29.0      m   \n",
       "\n",
       "               device_type  ...  Опция T-Games  Соц. сети 2.0  Соц. сети 2.0+  \\\n",
       "1           4G Smartphones  ...            NaN            NaN             NaN   \n",
       "2           4G Smartphones  ...            NaN            NaN             NaN   \n",
       "6           4G Smartphones  ...            1.0            NaN             NaN   \n",
       "11                     NaN  ...            NaN            NaN             NaN   \n",
       "13          4G Smartphones  ...            NaN            NaN             NaN   \n",
       "...                    ...  ...            ...            ...             ...   \n",
       "1338           Smartphones  ...            NaN            NaN             NaN   \n",
       "1339        4G Smartphones  ...            NaN            NaN             NaN   \n",
       "1340  Unidentified Devices  ...            1.0            NaN             NaN   \n",
       "1341        4G Smartphones  ...            NaN            NaN             NaN   \n",
       "1342        4G Smartphones  ...            NaN            NaN             NaN   \n",
       "\n",
       "      Тройной Безлимит+Тикток  Тройной безлимит  \\\n",
       "1                         NaN               NaN   \n",
       "2                         NaN               NaN   \n",
       "6                         NaN               NaN   \n",
       "11                        NaN               NaN   \n",
       "13                        NaN               NaN   \n",
       "...                       ...               ...   \n",
       "1338                      NaN               NaN   \n",
       "1339                      NaN               NaN   \n",
       "1340                      NaN               NaN   \n",
       "1341                      NaN               NaN   \n",
       "1342                      NaN               NaN   \n",
       "\n",
       "                                              subdomain  \\\n",
       "1     [instagram.fdyu2-1.fna, cdn, video, i, mm, sco...   \n",
       "2     [rr1---sn-poqpbvuw-qt0s, rr2---sn-poqpbvuw-qt0...   \n",
       "6     [instagram.fdyu2-1.fna, v16m, v58, i, gdl, www...   \n",
       "11    [i, rr1---sn-poqpbvuw-qt0s, rr2---sn-poqpbvuw-...   \n",
       "13    [v16m, v58, rr2---sn-poqpbvuw-qt0s, sf16-gecko...   \n",
       "...                                                 ...   \n",
       "1338  [instagram.fdyu2-1.fna, v16m, v58, media.fdyu2...   \n",
       "1339  [rr1---sn-poqpbvuw-qt0s, api, rr1---sn-poqpbvu...   \n",
       "1340  [instagram.fdyu2-1.fna, scontent.fdyu2-1.fna, ...   \n",
       "1341  [rr2---sn-poqpbvuw-qt0s, rr1---sn-poqpbvuw-qt0...   \n",
       "1342  [rr1---sn-poqpbvuw-qt0s, rr2---sn-poqpbvuw-qt0...   \n",
       "\n",
       "                                                 domain  \\\n",
       "1         [userapi, googleapis, fbcdn, google, tiktokv]   \n",
       "2      [pushy, googlevideo, yandex, googleapis, google]   \n",
       "6     [fbcdn, googlevideo, userapi, googleapis, tikt...   \n",
       "11          [mycdn, yandex, googleapis, awmcdn, google]   \n",
       "13    [googlevideo, googleapis, yandex, tiktokv, goo...   \n",
       "...                                                 ...   \n",
       "1338       [fbcdn, googleapis, tiktokv, google, xiaomi]   \n",
       "1339  [googlevideo, googleapis, yandex, fbcdn, tiktokv]   \n",
       "1340     [apple, tiktokv, fbcdn, tiktokcdn, googleapis]   \n",
       "1341    [googlevideo, googleapis, google, fbcdn, viber]   \n",
       "1342  [googlevideo, google, googleapis, yandex, gsta...   \n",
       "\n",
       "                           suffix           domain_counts  \\\n",
       "1         [com, net, ru, pro, io]    [85, 53, 46, 34, 20]   \n",
       "2          [com, io, net, ru, me]  [554, 307, 55, 52, 25]   \n",
       "6          [com, net, ru, io, me]  [181, 119, 84, 74, 42]   \n",
       "11         [com, net, me, ru, st]  [180, 100, 60, 59, 37]   \n",
       "13         [com, ru, net, me, io]    [47, 44, 35, 30, 27]   \n",
       "...                           ...                     ...   \n",
       "1338    [com, net, org, io, mobi]    [60, 52, 38, 32, 15]   \n",
       "1339     [com, net, ru, uz, tech]   [252, 77, 53, 53, 40]   \n",
       "1340      [com, net, ru, org, io]   [103, 35, 33, 28, 26]   \n",
       "1341     [com, net, ru, io, mobi]    [89, 70, 33, 19, 14]   \n",
       "1342  [com, net, ru, org, com.tj]    [129, 26, 24, 13, 7]   \n",
       "\n",
       "                 suffix_counts  \n",
       "1         [516, 92, 24, 10, 7]  \n",
       "2       [695, 561, 87, 59, 19]  \n",
       "6       [964, 276, 38, 15, 13]  \n",
       "11    [580, 199, 184, 133, 11]  \n",
       "13        [266, 46, 41, 27, 6]  \n",
       "...                        ...  \n",
       "1338        [405, 97, 4, 4, 3]  \n",
       "1339     [609, 146, 114, 6, 6]  \n",
       "1340     [571, 85, 21, 15, 12]  \n",
       "1341        [450, 65, 9, 8, 4]  \n",
       "1342       [253, 20, 13, 3, 2]  \n",
       "\n",
       "[1243 rows x 50 columns]"
      ]
     },
     "execution_count": 101,
     "metadata": {},
     "output_type": "execute_result"
    }
   ],
   "source": [
    "# Из общего ДатаФрейма удаляются клиенты, для которых количество отсчётов по домуну меньше 5 (наиболее популярные)\n",
    "\n",
    "main_id_new.drop(main_id_new[main_id_new['subscriber_id'].isin(list(pd.Series(len_sub).value_counts()[pd.Series(len_sub).value_counts()<5].index))].index, inplace = True)\n",
    "main_id_new"
   ]
  },
  {
   "cell_type": "code",
   "execution_count": 102,
   "id": "4a26e347-8aa9-4d0c-87eb-48e8113574e7",
   "metadata": {},
   "outputs": [],
   "source": [
    "main_id_new.to_csv('main_id_new.csv', index=False)"
   ]
  },
  {
   "cell_type": "code",
   "execution_count": 103,
   "id": "46610b8a-ffec-4f92-9fed-96a0668fbdd0",
   "metadata": {},
   "outputs": [],
   "source": [
    "# Формирование возрастных групп \n",
    "\n",
    "first_df=main_id_new.query('age>=16 & age<26')\n",
    "second_df=main_id_new.query('age>=26 & age<38')\n",
    "thied_df=main_id_new.query('age>=38 & age<=86')"
   ]
  },
  {
   "cell_type": "code",
   "execution_count": 104,
   "id": "2f3d5c62-656b-4d43-90ef-92cd491c7f5c",
   "metadata": {},
   "outputs": [],
   "source": [
    "# Подготовка данных для анализа. Раскладывание данных по доменам по спискам возрастных групп\n",
    "\n",
    "def get_list(ser: pd.Series):\n",
    "    f_list=list(ser.values[0])\n",
    "    for i in ser.values[1:]:\n",
    "        for j in i:\n",
    "            f_list.append(j)\n",
    "    ser=pd.Series(f_list)\n",
    "    return ser\n",
    "first_ser=get_list(first_df.domain)\n",
    "second_ser=get_list(second_df.domain)\n",
    "thied_ser=get_list(thied_df.domain)"
   ]
  },
  {
   "cell_type": "code",
   "execution_count": 105,
   "id": "35843d07-a91d-41d6-aeed-436430502189",
   "metadata": {},
   "outputs": [
    {
     "data": {
      "text/plain": [
       "<matplotlib.legend.Legend at 0x246e15dadf0>"
      ]
     },
     "execution_count": 105,
     "metadata": {},
     "output_type": "execute_result"
    },
    {
     "data": {
      "image/png": "[encoded data removed]",
      "text/plain": [
       "<Figure size 432x288 with 1 Axes>"
      ]
     },
     "metadata": {
      "needs_background": "light"
     },
     "output_type": "display_data"
    }
   ],
   "source": [
    "# Получение графиков частоты распределения доменов по возрастным группам \n",
    "\n",
    "ax=first_ser.value_counts()[:10].plot.bar(stacked=True, color='r', alpha=0.5)\n",
    "ax=second_ser.value_counts()[:10].plot.bar(ax=ax, color='b', alpha=0.5)\n",
    "ax=thied_ser.value_counts()[:10].plot.bar(ax=ax, color='g', alpha=0.5)\n",
    "ax.legend(['16-26', '26-38', '38-86'])"
   ]
  },
  {
   "cell_type": "markdown",
   "id": "1733c98b-a6e1-4c29-b132-d6083b698e57",
   "metadata": {},
   "source": [
    "Наиболее молодая возрастная группа является наиболее частым потребителем "
   ]
  },
  {
   "cell_type": "code",
   "execution_count": 106,
   "id": "02ce6910-4376-4760-b5a4-f06604757342",
   "metadata": {},
   "outputs": [],
   "source": [
    "# Раскладывание данных суффиксов по спискам возрастных групп\n",
    "\n",
    "first_ser=get_list(first_df.suffix)\n",
    "second_ser=get_list(second_df.suffix)\n",
    "thied_ser=get_list(thied_df.suffix)"
   ]
  },
  {
   "cell_type": "code",
   "execution_count": 107,
   "id": "3e0fc858-9065-430c-833a-009c2c49d432",
   "metadata": {},
   "outputs": [
    {
     "data": {
      "text/plain": [
       "<matplotlib.legend.Legend at 0x246e092c5b0>"
      ]
     },
     "execution_count": 107,
     "metadata": {},
     "output_type": "execute_result"
    },
    {
     "data": {
      "image/png": "[encoded data removed]",
      "text/plain": [
       "<Figure size 432x288 with 1 Axes>"
      ]
     },
     "metadata": {
      "needs_background": "light"
     },
     "output_type": "display_data"
    }
   ],
   "source": [
    "ax=first_ser.value_counts()[:10].plot.bar(stacked=True, color='r', alpha=0.5)\n",
    "ax=second_ser.value_counts()[:10].plot.bar(ax=ax, color='b', alpha=0.5)\n",
    "ax=thied_ser.value_counts()[:10].plot.bar(ax=ax, color='g', alpha=0.5)\n",
    "ax.legend(['16-26', '26-38', '38-86'])"
   ]
  },
  {
   "cell_type": "code",
   "execution_count": 108,
   "id": "0f03c2e8-d1dd-42da-b338-e860d722b3f7",
   "metadata": {},
   "outputs": [],
   "source": [
    "# Рабиение датафрейма по гендеру\n",
    "\n",
    "men_df=main_id_new.query('gender==\"m\"')\n",
    "wmen_df=main_id_new.query('gender==\"w\"')\n",
    "\n",
    "# Выделение суффиксов по гендеру\n",
    "\n",
    "men_ser=get_list(men_df.suffix)\n",
    "wmen_ser=get_list(wmen_df.suffix)"
   ]
  },
  {
   "cell_type": "code",
   "execution_count": 109,
   "id": "2656053e-302e-43e3-b7b1-76e29b3308ac",
   "metadata": {},
   "outputs": [
    {
     "data": {
      "text/plain": [
       "<matplotlib.legend.Legend at 0x246e15854f0>"
      ]
     },
     "execution_count": 109,
     "metadata": {},
     "output_type": "execute_result"
    },
    {
     "data": {
      "image/png": "[encoded data removed]",
      "text/plain": [
       "<Figure size 432x288 with 1 Axes>"
      ]
     },
     "metadata": {
      "needs_background": "light"
     },
     "output_type": "display_data"
    }
   ],
   "source": [
    "ax=men_ser.value_counts()[:10].plot.bar(stacked=True, color='r', alpha=0.5)\n",
    "ax=wmen_ser.value_counts()[:10].plot.bar(ax=ax, color='b', alpha=0.5)\n",
    "ax.legend(['M', 'W'])"
   ]
  },
  {
   "cell_type": "code",
   "execution_count": 110,
   "id": "d5d13a37-8708-48df-9506-a3ce7b397265",
   "metadata": {},
   "outputs": [],
   "source": [
    "# Выделение доменов по гендеру\n",
    "\n",
    "men_ser=get_list(men_df.domain)\n",
    "wmen_ser=get_list(wmen_df.domain)"
   ]
  },
  {
   "cell_type": "code",
   "execution_count": 111,
   "id": "7de0ca5b-00a5-460a-bb53-8f0caae801ba",
   "metadata": {},
   "outputs": [
    {
     "data": {
      "text/plain": [
       "<matplotlib.legend.Legend at 0x2468c2f60a0>"
      ]
     },
     "execution_count": 111,
     "metadata": {},
     "output_type": "execute_result"
    },
    {
     "data": {
      "image/png": "[encoded data removed]",
      "text/plain": [
       "<Figure size 432x288 with 1 Axes>"
      ]
     },
     "metadata": {
      "needs_background": "light"
     },
     "output_type": "display_data"
    }
   ],
   "source": [
    "ax=men_ser.value_counts()[:10].plot.bar(stacked=True, color='r', alpha=0.5)\n",
    "ax=wmen_ser.value_counts()[:10].plot.bar(ax=ax, color='b', alpha=0.5)\n",
    "ax.legend(['M', 'W'])"
   ]
  },
  {
   "cell_type": "markdown",
   "id": "770c8a7d-d27d-4538-be9f-96c61ba96245",
   "metadata": {},
   "source": [
    "# Рекомендации"
   ]
  },
  {
   "cell_type": "markdown",
   "id": "5c76726c-ba7a-46e6-9aba-9f42e29fb76e",
   "metadata": {},
   "source": [
    "* При формировании наборов данных по опциям следует отмечать отсутствие подключённой опции значением 0, а не NaN. Поскольку значения NaN могут сформироваться в случае сбоев в работе алгоритма;\n",
    "* Если предоставленные данные представляют собой репрезентативную выборку, то можно сделать вывод о недостаточной вовлечённости первой и третьей группы клиентов. Можно решить соответствующим таргетированным стимулированием, формированием индивидуальной ценовой политики, например, тарифы для школьников и пенсионеров;\n",
    "* Если id региона выделяется отдельно для различных населённых пунктов, то можно отметить, что в некоторых населённых пунктах t-cell на рынке сотовых операторов представлен недостаточно. Решается расширением географии доступности сети t-cell, при прочих равных для различных населённых пунктов;\n",
    "* Интересно было бы исследовать данные по клиентам в динамике, в том числе данные по доходу. Возможно, динамика клиентских трат в значительной степени характеризует возрастную категорию клиента;\n",
    "\n",
    "* Данные по тарифам (условия) помогли бы интерпретировать популярность нескольких тарифов и сделать вывовы о способах и необходимости изменения тарифной политики компании;\n",
    "* Оптимизировать дополнительные платные опции - многие опции просто не используются (используются редко)\n"
   ]
  },
  {
   "cell_type": "code",
   "execution_count": null,
   "id": "89757812-c8c3-4203-8eb8-b69b7728ff55",
   "metadata": {},
   "outputs": [],
   "source": []
  }
 ],
 "metadata": {
  "kernelspec": {
   "display_name": "TensorFlow-GPU",
   "language": "python",
   "name": "tf-gpu"
  },
  "language_info": {
   "codemirror_mode": {
    "name": "ipython",
    "version": 3
   },
   "file_extension": ".py",
   "mimetype": "text/x-python",
   "name": "python",
   "nbconvert_exporter": "python",
   "pygments_lexer": "ipython3",
   "version": "3.9.6"
  }
 },
 "nbformat": 4,
 "nbformat_minor": 5
}
